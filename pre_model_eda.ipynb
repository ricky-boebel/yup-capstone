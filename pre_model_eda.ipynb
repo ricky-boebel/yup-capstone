{
 "cells": [
  {
   "cell_type": "code",
   "execution_count": 1,
   "metadata": {
    "collapsed": true
   },
   "outputs": [],
   "source": [
    "import pandas as pd\n",
    "import numpy as np\n",
    "import random\n",
    "import matplotlib.pyplot as plt\n",
    "import lifelines\n",
    "from lifelines import KaplanMeierFitter\n",
    "from lifelines import NelsonAalenFitter\n",
    "from lifelines import AalenAdditiveFitter\n",
    "import patsy\n",
    "import emoji\n",
    "\n",
    "\n",
    "\n",
    "%matplotlib inline\n",
    "pd.set_option('display.max_colwidth', -1)"
   ]
  },
  {
   "cell_type": "code",
   "execution_count": 2,
   "metadata": {
    "collapsed": true
   },
   "outputs": [],
   "source": [
    "s_names = pd.read_csv(\"data/resp_id_join.csv\")\n",
    "s_names = s_names[['Respondent ID','First name', 'Last name']]\n",
    "s_names.columns = ['Respondent ID','first_name', 'last_name']\n",
    "sr = pd.read_csv(\"data/resp_id_join.csv\")\n",
    "sr = sr.merge(s_names, how = 'left', on = 'Respondent ID')\n",
    "ss = pd.read_csv(\"data/students_survey.csv\")\n",
    "\n",
    "# Need respondent ids for those ss-sr join\n",
    "ss['first_name'] = [name.split()[0] for name in ss.name]\n",
    "ss['last_name'] = [name.split()[1] if len(name.split()) == 2 else 'unknown' for name in ss.name]\n",
    "ss['first_name'] = ss['first_name'].str.lower()\n",
    "ss['last_name'] = ss['last_name'].str.lower()\n",
    "\n",
    "sr['first_name'] = sr['first_name'].str.lower()\n",
    "sr['last_name'] = sr['last_name'].str.lower()\n",
    "sr = sr.merge(ss, how = 'left', on = ['first_name','last_name'])\n",
    "#45 students here's who's missing  -> ss[-ss.student_id.isin(sr.student_id)]\n",
    "#and who we have sr[pd.notnull(sr.student_id)]"
   ]
  },
  {
   "cell_type": "code",
   "execution_count": 3,
   "metadata": {
    "collapsed": false
   },
   "outputs": [
    {
     "data": {
      "text/plain": [
       "(39, 5)"
      ]
     },
     "execution_count": 3,
     "metadata": {},
     "output_type": "execute_result"
    }
   ],
   "source": [
    "ss[-ss.student_id.isin(sr.student_id)].shape"
   ]
  },
  {
   "cell_type": "code",
   "execution_count": 4,
   "metadata": {
    "collapsed": false
   },
   "outputs": [
    {
     "name": "stderr",
     "output_type": "stream",
     "text": [
      "/Users/ricky/anaconda2/lib/python2.7/site-packages/IPython/core/interactiveshell.py:2717: DtypeWarning: Columns (71,72,73,74,75,76,77,78,79,80,81,82,83,84,85,86,87,88,89,90,91,92,93,94,95,96,97,98,99,100,101,102,103) have mixed types. Specify dtype option on import or set low_memory=False.\n",
      "  interactivity=interactivity, compiler=compiler, result=result)\n",
      "/Users/ricky/anaconda2/lib/python2.7/site-packages/IPython/core/interactiveshell.py:2717: DtypeWarning: Columns (0) have mixed types. Specify dtype option on import or set low_memory=False.\n",
      "  interactivity=interactivity, compiler=compiler, result=result)\n"
     ]
    }
   ],
   "source": [
    "# Session level data\n",
    "ses = pd.read_csv(\"data/yup-sessions-2017-06-29.csv\")\n",
    "ses.columns = [col.strip() for col in ses.columns]\n",
    "#Message Level Dat\n",
    "msg = pd.read_csv(\"data/yup-messages-2017-06-29.csv\")\n",
    "#Student survey data\n",
    "ss = pd.read_csv(\"data/students_survey.csv\")\n",
    "\n",
    "#column cleaning\n",
    "msg['created_at_clean'] = pd.to_datetime(msg.created_at.astype(str).str[:-4], format='%Y-%m-%d %H:%M:%S', errors='ignore')\n",
    "msg['text_readable'] = msg.sent_from +': '+ msg.text\n",
    "ses['timestamp_clean'] = pd.to_datetime(ses.timestamp.astype(str).str[:-4], format='%Y-%m-%d %H:%M:%S', errors='ignore')\n",
    "ses.loc[(ses.timestamp_clean >='2016-06-13 00:00:00') & (ses.timestamp_clean <= '2016-08-18 00:00:00'),'no_paywall'] = 1\n",
    "ses.loc[(ses.timestamp_clean >='2016-03-16 00:00:00') & (ses.timestamp_clean <= '2016-04-12 00:00:00'),'no_paywall'] = 1\n",
    "ses['no_paywall'] = ses.no_paywall.fillna(value=0)\n",
    "\n",
    "#merge two tables\n",
    "df_all = msg.merge(ses, on = 'session_id')\n",
    "#subset out rubric questions and take out all uncategorized sessions\n",
    "subset_cols =ses.columns[:42].append(ses.columns[-2:])\n",
    "ses_1_42 = ses[subset_cols]\n",
    "ses_1_42 = ses_1_42[-ses_1_42.consolidated_session_category.isin(['no-msg-sent', None, 'connection-issue'])]\n",
    "ses_1_42['year-month'] = ses_1_42.timestamp_clean.astype(str).str[:7]\n",
    "\n",
    "# New Transformations\n",
    "ses_1_42.loc[ses_1_42.consolidated_session_category == \"gap-bridged\", 'gb_bool'] = 1\n",
    "ses_1_42.loc[ses_1_42.consolidated_session_category != \"gap-bridged\", 'gb_bool'] = 0\n",
    "ses_1_42['survey'] = 0\n",
    "ses_1_42.loc[ses_1_42.student_id.isin(ss.student_id) , 'survey'] = 1 \n"
   ]
  },
  {
   "cell_type": "code",
   "execution_count": 5,
   "metadata": {
    "collapsed": false,
    "scrolled": true
   },
   "outputs": [
    {
     "data": {
      "text/plain": [
       "\"\\n#On hold until survival starts back up\\n#V2 : Limit to at least 5 gap bridged\\nstudents_gb5 = students[(students.gb_count > 4)]\\nstudents_gb5['bridged_ts5'] = students_gb5['bridged_ts_list'].str[4]\\nstudents_gb5['days_to_gb_5'] = (students_gb5.bridged_ts5 - students_gb5.first_session).astype('timedelta64[D]') + 1\\n\\n#V3 : At least 5 sessions, death defined as getting to 5 gap_bridged\\nstudents_gb5 = students[(students.session_count > 4)]\\nstudents_gb5['bridged_ts5'] = students_gb5['bridged_ts_list'].str[4]\\nstudents_gb5['bridged_ts5'] = students_gb5['bridged_ts5'].fillna(value = pd.to_datetime('2017-06-29 00:00:00', format='%Y-%m-%d %H:%M:%S'))\\nstudents_gb5.loc[students_gb5['bridged_ts5'] != pd.to_datetime('2017-06-29 00:00:00', format='%Y-%m-%d %H:%M:%S'), 'observed'] = 1\\nstudents_gb5.loc[students_gb5['bridged_ts5'] == pd.to_datetime('2017-06-29 00:00:00', format='%Y-%m-%d %H:%M:%S'), 'observed'] = 0\\nstudents_gb5['days_to_gb_5'] = (students_gb5.bridged_ts5 - students_gb5.first_session).astype('timedelta64[D]') + 1\\n#Subseting out system msgs\\nmsg = msg[(msg.sent_from == 'student') | (msg.sent_from == 'tutor')]\\nmsg = msg.drop_duplicates(['created_at', 'text'])\\n\""
      ]
     },
     "execution_count": 5,
     "metadata": {},
     "output_type": "execute_result"
    }
   ],
   "source": [
    "#Student-level data cleaning\n",
    "\n",
    "# V1 : All students\n",
    "#Groupbys to join\n",
    "ses_cnt_by_student = ses_1_42.groupby('student_id').count()['session_id']\n",
    "gb_cnt_by_student = ses_1_42[ses_1_42.consolidated_session_category == 'gap-bridged']\\\n",
    ".groupby('student_id').count()['session_id']\n",
    "first_gb_by_student = ses_1_42[ses_1_42.consolidated_session_category == 'gap-bridged'].groupby('student_id')['timestamp_clean'].min()\n",
    "first_session_by_student = ses_1_42.groupby('student_id')['timestamp_clean'].min()\n",
    "most_used_platform_by_student = ses_1_42.groupby('student_id')['student_platform'].agg(lambda x:x.value_counts().index[0])\n",
    "\n",
    "#Student level data cleaning and exploration\n",
    "students = pd.DataFrame(ses_cnt_by_student).reset_index()\n",
    "gbc = pd.DataFrame(gb_cnt_by_student).reset_index()\n",
    "first_gb = pd.DataFrame(first_gb_by_student).reset_index()\n",
    "first_session = pd.DataFrame(first_session_by_student).reset_index()\n",
    "most_used_platform = pd.DataFrame(most_used_platform_by_student).reset_index()\n",
    "bridged_ts = pd.DataFrame(ses_1_42[ses_1_42.consolidated_session_category == 'gap-bridged'].groupby('student_id')['timestamp_clean'].apply(np.array)).reset_index()\n",
    "unbridged_ts = pd.DataFrame(ses_1_42[ses_1_42.consolidated_session_category != 'gap-bridged'].groupby('student_id')['timestamp_clean'].apply(np.array)).reset_index()\n",
    "last_ub = pd.DataFrame(ses_1_42[ses_1_42.consolidated_session_category != 'gap-bridged'].groupby('student_id')['timestamp_clean'].max()).reset_index()\n",
    "most_subject = pd.DataFrame(ses_1_42.groupby('student_id')['subject'].agg(lambda x:x.value_counts().index[0])).reset_index()\n",
    "\n",
    "#merge into students df\n",
    "students = students.merge(gbc, how = 'left' , on = 'student_id')\n",
    "students = students.merge(first_gb,how = 'left' , on = 'student_id')\n",
    "students = students.merge(last_ub ,how = 'left' , on = 'student_id')\n",
    "students = students.merge(first_session ,how = 'left' , on = 'student_id')\n",
    "students = students.merge(most_used_platform ,how = 'left' , on = 'student_id')\n",
    "students = students.merge(most_subject ,how = 'left' , on = 'student_id')\n",
    "students = students.merge(bridged_ts ,how = 'left' , on = 'student_id')\n",
    "students = students.merge(unbridged_ts ,how = 'left' , on = 'student_id')\n",
    "\n",
    "#rename columns\n",
    "students.columns = ['student_id', 'session_count', 'gb_count', 'first_gb', 'last_ub', 'first_session', 'most_used_platform'\\\n",
    "                   ,'most_subject','bridged_ts_list', 'unbridged_ts_list']\n",
    "\n",
    "#clean and create new columns\n",
    "students['counter'] = students['session_count']\n",
    "students['first_gb'] = students['first_gb'].fillna(value = pd.to_datetime('2017-06-29 00:00:00', format='%Y-%m-%d %H:%M:%S'))\n",
    "students = students.fillna(value=0) #Note this created cells where NA -> 1970 dt object in first_gb column\n",
    "students['gb_rate'] = 1.0*students.gb_count / students.session_count\n",
    "students['time_to_gb'] = students.first_gb - students.first_session \n",
    "students['days_to_gb'] = students.time_to_gb.astype('timedelta64[D]')\n",
    "students['days_to_gb'] = students['days_to_gb']+1 #to combat zero day in survival analysis\n",
    "students.loc[students['first_gb'] != pd.to_datetime('2017-06-29 00:00:00', format='%Y-%m-%d %H:%M:%S'), 'observed'] = 1\n",
    "students.loc[students['first_gb'] == pd.to_datetime('2017-06-29 00:00:00', format='%Y-%m-%d %H:%M:%S'), 'observed'] = 0\n",
    "students.loc[students['last_ub'] > students['first_gb'], 'unbridged_after_gb'] = 1\n",
    "students.loc[students['last_ub'] < students['first_gb'], 'unbridged_after_gb'] = 0\n",
    "\n",
    "# merge all student level information\n",
    "ses_1_42 = ses_1_42.merge(students, how = 'left', on = 'student_id')\n",
    "\n",
    "\n",
    "\n",
    "#post merge session adding\n",
    "ses_1_42['days_since_ses_1'] = (ses_1_42.timestamp_clean - ses_1_42.first_session ).astype('timedelta64[D]')\n",
    "'''\n",
    "#On hold until survival starts back up\n",
    "#V2 : Limit to at least 5 gap bridged\n",
    "students_gb5 = students[(students.gb_count > 4)]\n",
    "students_gb5['bridged_ts5'] = students_gb5['bridged_ts_list'].str[4]\n",
    "students_gb5['days_to_gb_5'] = (students_gb5.bridged_ts5 - students_gb5.first_session).astype('timedelta64[D]') + 1\n",
    "\n",
    "#V3 : At least 5 sessions, death defined as getting to 5 gap_bridged\n",
    "students_gb5 = students[(students.session_count > 4)]\n",
    "students_gb5['bridged_ts5'] = students_gb5['bridged_ts_list'].str[4]\n",
    "students_gb5['bridged_ts5'] = students_gb5['bridged_ts5'].fillna(value = pd.to_datetime('2017-06-29 00:00:00', format='%Y-%m-%d %H:%M:%S'))\n",
    "students_gb5.loc[students_gb5['bridged_ts5'] != pd.to_datetime('2017-06-29 00:00:00', format='%Y-%m-%d %H:%M:%S'), 'observed'] = 1\n",
    "students_gb5.loc[students_gb5['bridged_ts5'] == pd.to_datetime('2017-06-29 00:00:00', format='%Y-%m-%d %H:%M:%S'), 'observed'] = 0\n",
    "students_gb5['days_to_gb_5'] = (students_gb5.bridged_ts5 - students_gb5.first_session).astype('timedelta64[D]') + 1\n",
    "#Subseting out system msgs\n",
    "msg = msg[(msg.sent_from == 'student') | (msg.sent_from == 'tutor')]\n",
    "msg = msg.drop_duplicates(['created_at', 'text'])\n",
    "'''"
   ]
  },
  {
   "cell_type": "code",
   "execution_count": 6,
   "metadata": {
    "collapsed": false
   },
   "outputs": [
    {
     "name": "stderr",
     "output_type": "stream",
     "text": [
      "/Users/ricky/anaconda2/lib/python2.7/site-packages/ipykernel/__main__.py:69: SettingWithCopyWarning: \n",
      "A value is trying to be set on a copy of a slice from a DataFrame.\n",
      "Try using .loc[row_indexer,col_indexer] = value instead\n",
      "\n",
      "See the caveats in the documentation: http://pandas.pydata.org/pandas-docs/stable/indexing.html#indexing-view-versus-copy\n",
      "/Users/ricky/anaconda2/lib/python2.7/site-packages/ipykernel/__main__.py:70: SettingWithCopyWarning: \n",
      "A value is trying to be set on a copy of a slice from a DataFrame.\n",
      "Try using .loc[row_indexer,col_indexer] = value instead\n",
      "\n",
      "See the caveats in the documentation: http://pandas.pydata.org/pandas-docs/stable/indexing.html#indexing-view-versus-copy\n"
     ]
    }
   ],
   "source": [
    "#Subseting out system msgs\n",
    "msg = msg[(msg.sent_from == 'student') | (msg.sent_from == 'tutor')]\n",
    "msg = msg.drop_duplicates(['created_at', 'text'])\n",
    "\n",
    "# Count total, tutor and student msg counts\n",
    "msg_count_by_ses = pd.DataFrame(msg.groupby('session_id').count()['created_at']).reset_index()\n",
    "msg_stu_count_by_ses = pd.DataFrame(msg[(msg.sent_from == 'student')].groupby('session_id').count()['created_at']).reset_index()\n",
    "msg_tut_count_by_ses = pd.DataFrame(msg[(msg.sent_from == 'tutor')].groupby('session_id').count()['created_at']).reset_index()\n",
    "msg_count_by_ses.columns = ['session_id', 'total_count_msg']\n",
    "msg_stu_count_by_ses.columns = ['session_id', 'stu_count_msg']\n",
    "msg_tut_count_by_ses.columns = ['session_id', 'tut_count_msg']\n",
    "\n",
    "#gone mergin'\n",
    "ses_1_42 = ses_1_42.merge(msg_count_by_ses, how = 'left', on = 'session_id')\n",
    "ses_1_42 = ses_1_42.merge(msg_stu_count_by_ses, how = 'left', on = 'session_id')\n",
    "ses_1_42 = ses_1_42.merge(msg_tut_count_by_ses, how = 'left', on = 'session_id')\n",
    "\n",
    "#Take text and count words and put into df to join to session master data set\n",
    "msg['text'] = msg['text'].astype(str)\n",
    "msg['text_lower'] = [t.lower() for t in msg.text]\n",
    "full_transcript_by_session = pd.DataFrame(msg[msg.content_type == 'text'].groupby('session_id')['text'].apply(list)).reset_index()\n",
    "joined_text = [\" \".join(transcript) for transcript in  full_transcript_by_session.text]\n",
    "split_of_transcript = [t.split() for t in joined_text]\n",
    "length_list = [len(t) for t in split_of_transcript]\n",
    "char_list = [len(t) for t in joined_text]\n",
    "question_count_list = [t.count('?') for t in joined_text]\n",
    "msg_question_count =  [t.count('?') for t in msg.text]\n",
    "\n",
    "full_transcript_by_session['text'] = joined_text\n",
    "full_transcript_by_session['word_count'] = length_list\n",
    "full_transcript_by_session['char_count'] = char_list\n",
    "full_transcript_by_session['question_count'] = question_count_list\n",
    "ses_1_42 = ses_1_42.merge(full_transcript_by_session, how = 'left', on = 'session_id')\n",
    "\n",
    "ques_start = ['how', 'what', 'when' , 'where' , 'why', 'who']\n",
    "for word in ques_start:\n",
    "    _ls_start = [t.strip()[:len(word)].count(word) for t in msg.text_lower]\n",
    "    _ls_any = [t.count(word) for t in msg.text_lower]\n",
    "    msg[word + '_start'] = _ls_start\n",
    "    msg[word + '_any'] = _ls_any\n",
    "    \n",
    "def emoji_list_search(ls):\n",
    "    for item in ls:\n",
    "        if unicode(item, 'utf-8') in emoji.UNICODE_EMOJI:\n",
    "            return 1.0\n",
    "    return 0.0\n",
    "\n",
    "lower_msg_split = [t.split() for t in msg.text_lower]\n",
    "msg[\"emoji_bool\"] = [emoji_list_search(ls) for ls in lower_msg_split]\n",
    "\n",
    "msg['question_student_count'] = np.array([1 if t.count(\"?\")>0 else 0 for t in msg.text_lower])\n",
    "msg['first_word'] = [ None if t.split()==[] else t.split()[0] for t in msg.text_lower]\n",
    "\n",
    "sum_msg_vars = ['how_start', 'what_start', 'when_start' , 'where_start' , 'why_start', 'who_start',\\\n",
    "                    'how_any', 'what_any', 'when_any' , 'where_any' , 'why_any', 'who_any',\\\n",
    "                   'emoji_bool']\n",
    "ques_start_any = []\n",
    "#merging question start counts for start of msg and anywhere in message\n",
    "ses_1_42 = ses_1_42.merge(pd.DataFrame(msg[(msg.sent_from == 'student')].groupby('session_id')[sum_msg_vars].sum()).reset_index(), how = 'left', on = 'session_id')\n",
    "ses_1_42 = ses_1_42.merge(pd.DataFrame(msg[(msg.sent_from == 'student')].groupby('session_id')['question_student_count'].sum()).reset_index(), how = 'left', on = 'session_id')\n",
    "\n",
    "ses_1_42['high_level'] = ses_1_42['why_any'] + ses_1_42['how_any']\n",
    "ses_1_42['low_level'] = ses_1_42['where_any'] + ses_1_42['when_any'] + ses_1_42['what_any'] + ses_1_42['who_any']\n",
    "ses_1_42['high_level_ratio'] = ses_1_42['high_level'] / pd.Series([1.0 if num == 0.0 else num for num in ses_1_42.low_level])\n",
    "#Note missing values found here -> #ses_1_42[(pd.isnull(ses_1_42.word_count))\n",
    "#no message data for 5K sessions\n",
    "# here are gb with no msg data: ses_1_42[(pd.isnull(ses_1_42.word_count)) &\\(ses_1_42.consolidated_session_category == 'gap-bridged')]['session_id']\n",
    "#All the sessions without missing message data\n",
    "# some may be no stud msg, connection isuue, etc\n",
    "ses_full = ses_1_42[(pd.notnull(ses_1_42.word_count))]\n",
    "ses_full['ses_num_order'] = ses_full.groupby('student_id').cumcount()\n",
    "ses_full['ses_num_order'] = ses_full['ses_num_order'] + 1\n",
    "\n",
    "#This creates incompleteness here as well \n",
    "#to correct I'll filter out all student ids that appear in sessions without message data\n",
    "students_full = students[-students.student_id.isin(ses_1_42[pd.isnull(ses_1_42.word_count)]['student_id'])]\n",
    "\n",
    "#merging student session group by to apprpriate stduent population\n",
    "students_full = students_full.merge(pd.DataFrame(ses_full.groupby('student_id')['question_student_count'].sum()).reset_index(), how = 'left', on = 'student_id')\n",
    "\n",
    "students_full['question_student_count_ratio'] = 1.0*students_full['question_student_count'] / students_full['session_count']\n",
    "\n"
   ]
  },
  {
   "cell_type": "code",
   "execution_count": 26,
   "metadata": {
    "collapsed": false
   },
   "outputs": [],
   "source": [
    "#emoji breakdown\n",
    "tutor = ses_full.groupby('tutor_id')[['emoji_bool','gb_bool']].sum().reset_index()\n",
    "tutor = tutor.merge(pd.DataFrame(ses_full.groupby('tutor_id')['session_id'].count()).reset_index(),how = 'left', on = 'tutor_id')\n",
    "tutor['gb_rate'] =  tutor.gb_bool  / tutor.session_id \n",
    "tutor['emoji_rate'] = tutor.emoji_bool  / tutor.session_id "
   ]
  },
  {
   "cell_type": "code",
   "execution_count": 7,
   "metadata": {
    "collapsed": false
   },
   "outputs": [],
   "source": [
    "ses_1_42.to_csv(\"data/ses_1_42.csv\")"
   ]
  },
  {
   "cell_type": "code",
   "execution_count": 34,
   "metadata": {
    "collapsed": false
   },
   "outputs": [
    {
     "data": {
      "text/plain": [
       "<matplotlib.collections.PathCollection at 0x139dff790>"
      ]
     },
     "execution_count": 34,
     "metadata": {},
     "output_type": "execute_result"
    },
    {
     "data": {
      "image/png": "[encoded data removed]",
      "text/plain": [
       "<matplotlib.figure.Figure at 0x1399d24d0>"
      ]
     },
     "metadata": {},
     "output_type": "display_data"
    }
   ],
   "source": [
    "plt.scatter(tutor['emoji_rate'],tutor['gb_rate'])"
   ]
  },
  {
   "cell_type": "markdown",
   "metadata": {},
   "source": [
    "# Exploratory Data Analysis: Session, Message and Student Data"
   ]
  },
  {
   "cell_type": "markdown",
   "metadata": {},
   "source": [
    "## Session"
   ]
  },
  {
   "cell_type": "code",
   "execution_count": 14,
   "metadata": {
    "collapsed": false
   },
   "outputs": [
    {
     "data": {
      "text/plain": [
       "<matplotlib.text.Text at 0x141249750>"
      ]
     },
     "execution_count": 14,
     "metadata": {},
     "output_type": "execute_result"
    },
    {
     "data": {
      "image/png": "[encoded data removed]",
      "text/plain": [
       "<matplotlib.figure.Figure at 0x14e0cf090>"
      ]
     },
     "metadata": {},
     "output_type": "display_data"
    }
   ],
   "source": [
    "plt.hist(ses_1_42.timestamp_clean.values, bins =13)\n",
    "plt.xlabel('Month')\n",
    "plt.ylabel('# of Sessions')"
   ]
  },
  {
   "cell_type": "code",
   "execution_count": 15,
   "metadata": {
    "collapsed": false
   },
   "outputs": [
    {
     "data": {
      "text/plain": [
       "<matplotlib.text.Text at 0x152975fd0>"
      ]
     },
     "execution_count": 15,
     "metadata": {},
     "output_type": "execute_result"
    },
    {
     "data": {
      "image/png": "[encoded data removed]",
      "text/plain": [
       "<matplotlib.figure.Figure at 0x152960d90>"
      ]
     },
     "metadata": {},
     "output_type": "display_data"
    }
   ],
   "source": [
    "plt.hist(ses_1_42.timestamp_clean.values, bins = 54)\n",
    "plt.xlabel('Week')\n",
    "plt.ylabel('# of Sessions')"
   ]
  },
  {
   "cell_type": "markdown",
   "metadata": {},
   "source": [
    "* Two Largest peaks in number of sessions are the begining and end of the 2016-2017 school year.\n",
    "* The lowest point is in December.\n",
    "* Looking at number of sessions by week below, there are some isolated drops around thanksgiving and Christmas."
   ]
  },
  {
   "cell_type": "code",
   "execution_count": 65,
   "metadata": {
    "collapsed": false
   },
   "outputs": [
    {
     "data": {
      "text/plain": [
       "<matplotlib.text.Text at 0x153597790>"
      ]
     },
     "execution_count": 65,
     "metadata": {},
     "output_type": "execute_result"
    },
    {
     "data": {
      "image/png": "[encoded data removed]",
      "text/plain": [
       "<matplotlib.figure.Figure at 0x1534ca410>"
      ]
     },
     "metadata": {},
     "output_type": "display_data"
    }
   ],
   "source": [
    "## Learning outcomes\n",
    "learning_outcome_counts = pd.DataFrame(ses_1_42.groupby('consolidated_session_category').count()['session_id'])\n",
    "learning_outcome_counts.plot(kind='bar')\n",
    "plt.ylabel('# of Sessions')\n",
    "\n",
    "\n",
    "\n"
   ]
  },
  {
   "cell_type": "markdown",
   "metadata": {},
   "source": [
    "\n",
    "* We see that the majority class, ~45% of graded sessions, is \"gap-bridged\"(the successful learning outcome). \"gap-explained\"(moderate success) and \"gap-clarification\"(minimal success)\n",
    "* This means our overall learning success rate of 52%"
   ]
  },
  {
   "cell_type": "code",
   "execution_count": 5,
   "metadata": {
    "collapsed": false
   },
   "outputs": [],
   "source": [
    "monthly_all = pd.DataFrame(ses_1_42.groupby('year-month').count()['session_id']).reset_index()\n",
    "monthly_gb = pd.DataFrame(ses_1_42[ses_1_42.consolidated_session_category == \"gap-bridged\"].groupby('year-month').count()['session_id']).reset_index()\n",
    "monthly_all = monthly_all.merge(monthly_gb, on = 'year-month')\n",
    "monthly_all['gb_rate'] = 1.0* monthly_all.session_id_y /monthly_all.session_id_x "
   ]
  },
  {
   "cell_type": "code",
   "execution_count": 6,
   "metadata": {
    "collapsed": false
   },
   "outputs": [],
   "source": [
    "monthly_all = monthly_all.set_index('year-month')"
   ]
  },
  {
   "cell_type": "code",
   "execution_count": 14,
   "metadata": {
    "collapsed": false
   },
   "outputs": [
    {
     "data": {
      "image/png": "[encoded data removed]",
      "text/plain": [
       "<matplotlib.figure.Figure at 0x1391aa290>"
      ]
     },
     "metadata": {},
     "output_type": "display_data"
    }
   ],
   "source": [
    "fig = plt.figure(figsize= (8,14))\n",
    "\n",
    "ax1 = fig.add_subplot(2,1,1)\n",
    "ax2 = fig.add_subplot(2,1,2)\n",
    "\n",
    "\n",
    "monthly_all.drop(['session_id_y', 'session_id_x'], axis = 1).plot(kind='bar', ax = ax1)\n",
    "ax1.set_xlabel('Month')\n",
    "ax1.set_ylabel('Percentage Gap Bridged')\n",
    "\n",
    "\n",
    "students.first_session.hist( ax = ax2)\n",
    "ax2.set_xlabel('Month')\n",
    "ax2.set_ylabel('# of new students')\n",
    "\n",
    "plt.subplots_adjust(hspace=0.5, left=0.2)"
   ]
  },
  {
   "cell_type": "markdown",
   "metadata": {},
   "source": [
    "* We see a matching effect with new students and drops in gb rate, particularily in August.\n",
    "    * This suggests some type of interaction between time since first session and gap bridged student performance"
   ]
  },
  {
   "cell_type": "code",
   "execution_count": 120,
   "metadata": {
    "collapsed": false
   },
   "outputs": [],
   "source": [
    "subject_all = pd.DataFrame(ses_1_42.groupby('subject').count()['session_id']).reset_index()\n",
    "subject_gb = pd.DataFrame(ses_1_42[ses_1_42.consolidated_session_category == \"gap-bridged\"].groupby('subject').count()['session_id']).reset_index()\n",
    "subject_all = subject_all.merge(subject_gb, on = 'subject')\n",
    "subject_all['gb_rate'] = 1.0* subject_all.session_id_y /subject_all.session_id_x "
   ]
  },
  {
   "cell_type": "code",
   "execution_count": 134,
   "metadata": {
    "collapsed": false
   },
   "outputs": [
    {
     "data": {
      "text/plain": [
       "<matplotlib.text.Text at 0x13f505850>"
      ]
     },
     "execution_count": 134,
     "metadata": {},
     "output_type": "execute_result"
    },
    {
     "data": {
      "image/png": "[encoded data removed]",
      "text/plain": [
       "<matplotlib.figure.Figure at 0x164b94050>"
      ]
     },
     "metadata": {},
     "output_type": "display_data"
    }
   ],
   "source": [
    "subject_all.set_index('subject').drop(['gb_rate', 'session_id_y'], axis = 1).plot(kind='bar')\n",
    "plt.xlabel('Subject')\n",
    "plt.ylabel('# sessions')"
   ]
  },
  {
   "cell_type": "code",
   "execution_count": 126,
   "metadata": {
    "collapsed": false
   },
   "outputs": [
    {
     "data": {
      "text/plain": [
       "<matplotlib.text.Text at 0x152e9f750>"
      ]
     },
     "execution_count": 126,
     "metadata": {},
     "output_type": "execute_result"
    },
    {
     "data": {
      "image/png": "[encoded data removed]",
      "text/plain": [
       "<matplotlib.figure.Figure at 0x13f6d75d0>"
      ]
     },
     "metadata": {},
     "output_type": "display_data"
    }
   ],
   "source": [
    "subject_all.set_index('subject').drop(['session_id_y', 'session_id_x'], axis = 1).plot(kind='bar')\n",
    "plt.xlabel('Subject')\n",
    "plt.ylabel('Percentage Gap Bridged')"
   ]
  },
  {
   "cell_type": "markdown",
   "metadata": {},
   "source": [
    "* ~88% Math sessions\n",
    "* Math has a gap bridged rate 10% higher than Chemistry and 8% higher than Physics."
   ]
  },
  {
   "cell_type": "code",
   "execution_count": 148,
   "metadata": {
    "collapsed": false
   },
   "outputs": [
    {
     "data": {
      "text/html": [
       "<div>\n",
       "<table border=\"1\" class=\"dataframe\">\n",
       "  <thead>\n",
       "    <tr style=\"text-align: right;\">\n",
       "      <th></th>\n",
       "      <th>subject</th>\n",
       "      <th>session_id_x</th>\n",
       "      <th>session_id_y</th>\n",
       "      <th>gb_rate</th>\n",
       "    </tr>\n",
       "  </thead>\n",
       "  <tbody>\n",
       "    <tr>\n",
       "      <th>0</th>\n",
       "      <td>Chemistry</td>\n",
       "      <td>2493</td>\n",
       "      <td>888</td>\n",
       "      <td>0.356197</td>\n",
       "    </tr>\n",
       "    <tr>\n",
       "      <th>1</th>\n",
       "      <td>Math</td>\n",
       "      <td>34989</td>\n",
       "      <td>16004</td>\n",
       "      <td>0.457401</td>\n",
       "    </tr>\n",
       "    <tr>\n",
       "      <th>2</th>\n",
       "      <td>Physics</td>\n",
       "      <td>1880</td>\n",
       "      <td>705</td>\n",
       "      <td>0.375000</td>\n",
       "    </tr>\n",
       "  </tbody>\n",
       "</table>\n",
       "</div>"
      ],
      "text/plain": [
       "     subject  session_id_x  session_id_y   gb_rate\n",
       "0  Chemistry  2493          888           0.356197\n",
       "1  Math       34989         16004         0.457401\n",
       "2  Physics    1880          705           0.375000"
      ]
     },
     "execution_count": 148,
     "metadata": {},
     "output_type": "execute_result"
    }
   ],
   "source": [
    "subject_all"
   ]
  },
  {
   "cell_type": "code",
   "execution_count": 131,
   "metadata": {
    "collapsed": false
   },
   "outputs": [],
   "source": [
    "subtopic_all = pd.DataFrame(ses_1_42.groupby('subtopic').count()['session_id']).reset_index()\n",
    "subtopic_gb = pd.DataFrame(ses_1_42[ses_1_42.consolidated_session_category == \"gap-bridged\"].groupby('subtopic').count()['session_id']).reset_index()\n",
    "subtopic_all = subtopic_all.merge(subtopic_gb, on = 'subtopic')\n",
    "subtopic_all['gb_rate'] = 1.0* subtopic_all.session_id_y /subtopic_all.session_id_x "
   ]
  },
  {
   "cell_type": "code",
   "execution_count": 137,
   "metadata": {
    "collapsed": false
   },
   "outputs": [
    {
     "data": {
      "text/plain": [
       "<matplotlib.text.Text at 0x163a6d4d0>"
      ]
     },
     "execution_count": 137,
     "metadata": {},
     "output_type": "execute_result"
    },
    {
     "data": {
      "image/png": "[encoded data removed]",
      "text/plain": [
       "<matplotlib.figure.Figure at 0x16450a8d0>"
      ]
     },
     "metadata": {},
     "output_type": "display_data"
    }
   ],
   "source": [
    "subtopic_all.set_index('subtopic').drop(['session_id_y', 'gb_rate'], axis = 1).plot(kind='bar')\n",
    "plt.xlabel('Subtopics')\n",
    "plt.ylabel('# of sessions')"
   ]
  },
  {
   "cell_type": "code",
   "execution_count": 133,
   "metadata": {
    "collapsed": false
   },
   "outputs": [
    {
     "data": {
      "text/plain": [
       "<matplotlib.text.Text at 0x14e083610>"
      ]
     },
     "execution_count": 133,
     "metadata": {},
     "output_type": "execute_result"
    },
    {
     "data": {
      "image/png": "[encoded data removed]",
      "text/plain": [
       "<matplotlib.figure.Figure at 0x1530d09d0>"
      ]
     },
     "metadata": {},
     "output_type": "display_data"
    }
   ],
   "source": [
    "subtopic_all.set_index('subtopic').drop(['session_id_y', 'session_id_x'], axis = 1).plot(kind='bar')\n",
    "plt.xlabel('Subject')\n",
    "plt.ylabel('Percentage Gap Bridged')"
   ]
  },
  {
   "cell_type": "markdown",
   "metadata": {},
   "source": [
    "* Much like subject, subtopic is heavily weighted towards Math related areas of the study\n",
    "* The clear top 3 are Algebra, Pre-Algebra and Geometry.\n",
    "* Interestingly Pre-Algebra has a gap bridged rate 19% less than Alegebra, 56% versus 37% respectively.\n",
    "    * Possible indication of a steep learning curve. "
   ]
  },
  {
   "cell_type": "code",
   "execution_count": 143,
   "metadata": {
    "collapsed": true
   },
   "outputs": [],
   "source": [
    "student_platform_all = pd.DataFrame(ses_1_42.groupby('student_platform').count()['session_id']).reset_index()\n",
    "student_platform_gb = pd.DataFrame(ses_1_42[ses_1_42.consolidated_session_category == \"gap-bridged\"].groupby('student_platform').count()['session_id']).reset_index()\n",
    "student_platform_all = student_platform_all.merge(student_platform_gb, on = 'student_platform')\n",
    "student_platform_all['gb_rate'] = 1.0* student_platform_all.session_id_y /student_platform_all.session_id_x "
   ]
  },
  {
   "cell_type": "code",
   "execution_count": 144,
   "metadata": {
    "collapsed": false
   },
   "outputs": [
    {
     "data": {
      "text/plain": [
       "<matplotlib.text.Text at 0x164c395d0>"
      ]
     },
     "execution_count": 144,
     "metadata": {},
     "output_type": "execute_result"
    },
    {
     "data": {
      "image/png": "[encoded data removed]",
      "text/plain": [
       "<matplotlib.figure.Figure at 0x164bee510>"
      ]
     },
     "metadata": {},
     "output_type": "display_data"
    }
   ],
   "source": [
    "student_platform_all.set_index('student_platform').drop(['session_id_y', 'gb_rate'], axis = 1).plot(kind='bar')\n",
    "plt.xlabel('platform')\n",
    "plt.ylabel('# of sessions')"
   ]
  },
  {
   "cell_type": "code",
   "execution_count": 146,
   "metadata": {
    "collapsed": false
   },
   "outputs": [
    {
     "data": {
      "text/plain": [
       "<matplotlib.text.Text at 0x164ce1110>"
      ]
     },
     "execution_count": 146,
     "metadata": {},
     "output_type": "execute_result"
    },
    {
     "data": {
      "image/png": "[encoded data removed]",
      "text/plain": [
       "<matplotlib.figure.Figure at 0x165259890>"
      ]
     },
     "metadata": {},
     "output_type": "display_data"
    }
   ],
   "source": [
    "student_platform_all.set_index('student_platform').drop(['session_id_y', 'session_id_x'], axis = 1).plot(kind='bar')\n",
    "plt.xlabel('platform')\n",
    "plt.ylabel('gap bridged rate')"
   ]
  },
  {
   "cell_type": "markdown",
   "metadata": {},
   "source": [
    "* ~88% iOS\n",
    "* Only 0.8% difference in gap bridged rate"
   ]
  },
  {
   "cell_type": "code",
   "execution_count": 33,
   "metadata": {
    "collapsed": false
   },
   "outputs": [
    {
     "name": "stdout",
     "output_type": "stream",
     "text": [
      "gb_bool\n",
      "0.0    0.106619\n",
      "1.0    0.351553\n",
      "Name: how_y, dtype: float64\n",
      "gb_bool\n",
      "0.0    0.126188\n",
      "1.0    0.397992\n",
      "Name: what_y, dtype: float64\n",
      "gb_bool\n",
      "0.0    0.009222\n",
      "1.0    0.043113\n",
      "Name: when_y, dtype: float64\n",
      "gb_bool\n",
      "0.0    0.012428\n",
      "1.0    0.050329\n",
      "Name: where_y, dtype: float64\n",
      "gb_bool\n",
      "0.0    0.018276\n",
      "1.0    0.089928\n",
      "Name: why_y, dtype: float64\n",
      "gb_bool\n",
      "0.0    0.119215\n",
      "1.0    0.329840\n",
      "Name: can_y, dtype: float64\n",
      "gb_bool\n",
      "0.0    3.208345 \n",
      "1.0    11.334045\n",
      "Name: question_student_count, dtype: float64\n"
     ]
    }
   ],
   "source": [
    "#Some mean comparison on gap bridged\n",
    "\n",
    "new_cols = list(ses_full.columns[-7:])\n",
    "for c in new_cols:\n",
    "    print ses_full.groupby('gb_bool')[c].mean()"
   ]
  },
  {
   "cell_type": "code",
   "execution_count": 59,
   "metadata": {
    "collapsed": false
   },
   "outputs": [
    {
     "data": {
      "text/html": [
       "<div>\n",
       "<table border=\"1\" class=\"dataframe\">\n",
       "  <thead>\n",
       "    <tr style=\"text-align: right;\">\n",
       "      <th></th>\n",
       "      <th>count</th>\n",
       "      <th>mean</th>\n",
       "      <th>std</th>\n",
       "      <th>min</th>\n",
       "      <th>25%</th>\n",
       "      <th>50%</th>\n",
       "      <th>75%</th>\n",
       "      <th>max</th>\n",
       "    </tr>\n",
       "  </thead>\n",
       "  <tbody>\n",
       "    <tr>\n",
       "      <th>session_id</th>\n",
       "      <td>33228</td>\n",
       "      <td>322191</td>\n",
       "      <td>12500.4</td>\n",
       "      <td>299889</td>\n",
       "      <td>311566</td>\n",
       "      <td>322512</td>\n",
       "      <td>332902</td>\n",
       "      <td>343367</td>\n",
       "    </tr>\n",
       "    <tr>\n",
       "      <th>tutor_id</th>\n",
       "      <td>33228</td>\n",
       "      <td>159749</td>\n",
       "      <td>167383</td>\n",
       "      <td>2</td>\n",
       "      <td>34864</td>\n",
       "      <td>54661</td>\n",
       "      <td>300294</td>\n",
       "      <td>531110</td>\n",
       "    </tr>\n",
       "    <tr>\n",
       "      <th>student_id</th>\n",
       "      <td>33228</td>\n",
       "      <td>421662</td>\n",
       "      <td>127141</td>\n",
       "      <td>52</td>\n",
       "      <td>385563</td>\n",
       "      <td>424178</td>\n",
       "      <td>522692</td>\n",
       "      <td>609630</td>\n",
       "    </tr>\n",
       "    <tr>\n",
       "      <th>feedback_score</th>\n",
       "      <td>33098</td>\n",
       "      <td>0.62312</td>\n",
       "      <td>0.458153</td>\n",
       "      <td>0</td>\n",
       "      <td>0</td>\n",
       "      <td>0.9</td>\n",
       "      <td>1</td>\n",
       "      <td>1</td>\n",
       "    </tr>\n",
       "    <tr>\n",
       "      <th>wait_time</th>\n",
       "      <td>33228</td>\n",
       "      <td>23.2164</td>\n",
       "      <td>88.37</td>\n",
       "      <td>1.36771</td>\n",
       "      <td>5.77364</td>\n",
       "      <td>8.16371</td>\n",
       "      <td>13.7699</td>\n",
       "      <td>3450.46</td>\n",
       "    </tr>\n",
       "    <tr>\n",
       "      <th>student_rating</th>\n",
       "      <td>30226</td>\n",
       "      <td>4.19751</td>\n",
       "      <td>1.53107</td>\n",
       "      <td>0</td>\n",
       "      <td>5</td>\n",
       "      <td>5</td>\n",
       "      <td>5</td>\n",
       "      <td>5</td>\n",
       "    </tr>\n",
       "    <tr>\n",
       "      <th>length_of_session</th>\n",
       "      <td>33228</td>\n",
       "      <td>-1.60058e+07</td>\n",
       "      <td>1.61202e+08</td>\n",
       "      <td>-1.49565e+09</td>\n",
       "      <td>429.996</td>\n",
       "      <td>1004.28</td>\n",
       "      <td>1970.74</td>\n",
       "      <td>1.48606e+09</td>\n",
       "    </tr>\n",
       "    <tr>\n",
       "      <th>avg_tutor_response_time</th>\n",
       "      <td>33228</td>\n",
       "      <td>32.5673</td>\n",
       "      <td>1036.87</td>\n",
       "      <td>0.00503778</td>\n",
       "      <td>14.2241</td>\n",
       "      <td>19.2501</td>\n",
       "      <td>26.2056</td>\n",
       "      <td>129541</td>\n",
       "    </tr>\n",
       "    <tr>\n",
       "      <th>max_tutor_response_time</th>\n",
       "      <td>33228</td>\n",
       "      <td>77.4936</td>\n",
       "      <td>1038.52</td>\n",
       "      <td>0.00503778</td>\n",
       "      <td>34.4697</td>\n",
       "      <td>53.4737</td>\n",
       "      <td>81.7549</td>\n",
       "      <td>129541</td>\n",
       "    </tr>\n",
       "    <tr>\n",
       "      <th>tutor_math_exam_score</th>\n",
       "      <td>27810</td>\n",
       "      <td>89.4899</td>\n",
       "      <td>10.6019</td>\n",
       "      <td>12</td>\n",
       "      <td>84</td>\n",
       "      <td>92</td>\n",
       "      <td>100</td>\n",
       "      <td>100</td>\n",
       "    </tr>\n",
       "    <tr>\n",
       "      <th>tutor_physics_exam_score</th>\n",
       "      <td>4195</td>\n",
       "      <td>58.564</td>\n",
       "      <td>25.4473</td>\n",
       "      <td>0</td>\n",
       "      <td>32</td>\n",
       "      <td>60</td>\n",
       "      <td>80</td>\n",
       "      <td>96</td>\n",
       "    </tr>\n",
       "    <tr>\n",
       "      <th>tutor_chemistry_exam_score</th>\n",
       "      <td>4092</td>\n",
       "      <td>64.0254</td>\n",
       "      <td>25.4264</td>\n",
       "      <td>0</td>\n",
       "      <td>56</td>\n",
       "      <td>68</td>\n",
       "      <td>84</td>\n",
       "      <td>92</td>\n",
       "    </tr>\n",
       "    <tr>\n",
       "      <th>tutor_age</th>\n",
       "      <td>33020</td>\n",
       "      <td>37.4719</td>\n",
       "      <td>13.5489</td>\n",
       "      <td>15</td>\n",
       "      <td>25</td>\n",
       "      <td>34</td>\n",
       "      <td>52</td>\n",
       "      <td>62</td>\n",
       "    </tr>\n",
       "    <tr>\n",
       "      <th>student_transactions_amount</th>\n",
       "      <td>33228</td>\n",
       "      <td>12468.1</td>\n",
       "      <td>24989.6</td>\n",
       "      <td>0</td>\n",
       "      <td>0</td>\n",
       "      <td>0</td>\n",
       "      <td>15454</td>\n",
       "      <td>303682</td>\n",
       "    </tr>\n",
       "    <tr>\n",
       "      <th>session_count</th>\n",
       "      <td>33228</td>\n",
       "      <td>35.516</td>\n",
       "      <td>64.1521</td>\n",
       "      <td>1</td>\n",
       "      <td>2</td>\n",
       "      <td>7</td>\n",
       "      <td>39</td>\n",
       "      <td>361</td>\n",
       "    </tr>\n",
       "    <tr>\n",
       "      <th>gb_count</th>\n",
       "      <td>33228</td>\n",
       "      <td>20.9128</td>\n",
       "      <td>41.1446</td>\n",
       "      <td>0</td>\n",
       "      <td>1</td>\n",
       "      <td>3</td>\n",
       "      <td>20</td>\n",
       "      <td>252</td>\n",
       "    </tr>\n",
       "    <tr>\n",
       "      <th>gb_rate</th>\n",
       "      <td>33228</td>\n",
       "      <td>0.4788</td>\n",
       "      <td>0.332728</td>\n",
       "      <td>0</td>\n",
       "      <td>0.2</td>\n",
       "      <td>0.5</td>\n",
       "      <td>0.734694</td>\n",
       "      <td>1</td>\n",
       "    </tr>\n",
       "    <tr>\n",
       "      <th>time_to_gb</th>\n",
       "      <td>33228</td>\n",
       "      <td>50 days 23:32:28.037829</td>\n",
       "      <td>107 days 18:47:18.175501</td>\n",
       "      <td>0 days 00:00:00</td>\n",
       "      <td>0 days 00:00:00</td>\n",
       "      <td>0 days 00:00:00</td>\n",
       "      <td>13 days 21:19:35</td>\n",
       "      <td>385 days 22:07:14</td>\n",
       "    </tr>\n",
       "    <tr>\n",
       "      <th>days_to_gb</th>\n",
       "      <td>33228</td>\n",
       "      <td>51.8189</td>\n",
       "      <td>107.641</td>\n",
       "      <td>1</td>\n",
       "      <td>1</td>\n",
       "      <td>1</td>\n",
       "      <td>14</td>\n",
       "      <td>386</td>\n",
       "    </tr>\n",
       "    <tr>\n",
       "      <th>observed</th>\n",
       "      <td>33228</td>\n",
       "      <td>0.78813</td>\n",
       "      <td>0.408639</td>\n",
       "      <td>0</td>\n",
       "      <td>1</td>\n",
       "      <td>1</td>\n",
       "      <td>1</td>\n",
       "      <td>1</td>\n",
       "    </tr>\n",
       "    <tr>\n",
       "      <th>unbridged_after_gb</th>\n",
       "      <td>33228</td>\n",
       "      <td>0.620501</td>\n",
       "      <td>0.48527</td>\n",
       "      <td>0</td>\n",
       "      <td>0</td>\n",
       "      <td>1</td>\n",
       "      <td>1</td>\n",
       "      <td>1</td>\n",
       "    </tr>\n",
       "    <tr>\n",
       "      <th>gb_bool</th>\n",
       "      <td>33228</td>\n",
       "      <td>0.527567</td>\n",
       "      <td>0.499247</td>\n",
       "      <td>0</td>\n",
       "      <td>0</td>\n",
       "      <td>1</td>\n",
       "      <td>1</td>\n",
       "      <td>1</td>\n",
       "    </tr>\n",
       "    <tr>\n",
       "      <th>days_since_ses_1</th>\n",
       "      <td>33228</td>\n",
       "      <td>29.3918</td>\n",
       "      <td>56.339</td>\n",
       "      <td>0</td>\n",
       "      <td>0</td>\n",
       "      <td>1</td>\n",
       "      <td>32</td>\n",
       "      <td>385</td>\n",
       "    </tr>\n",
       "  </tbody>\n",
       "</table>\n",
       "</div>"
      ],
      "text/plain": [
       "                             count                     mean  \\\n",
       "session_id                   33228  322191                    \n",
       "tutor_id                     33228  159749                    \n",
       "student_id                   33228  421662                    \n",
       "feedback_score               33098  0.62312                   \n",
       "wait_time                    33228  23.2164                   \n",
       "student_rating               30226  4.19751                   \n",
       "length_of_session            33228 -1.60058e+07               \n",
       "avg_tutor_response_time      33228  32.5673                   \n",
       "max_tutor_response_time      33228  77.4936                   \n",
       "tutor_math_exam_score        27810  89.4899                   \n",
       "tutor_physics_exam_score     4195   58.564                    \n",
       "tutor_chemistry_exam_score   4092   64.0254                   \n",
       "tutor_age                    33020  37.4719                   \n",
       "student_transactions_amount  33228  12468.1                   \n",
       "session_count                33228  35.516                    \n",
       "gb_count                     33228  20.9128                   \n",
       "gb_rate                      33228  0.4788                    \n",
       "time_to_gb                   33228  50 days 23:32:28.037829   \n",
       "days_to_gb                   33228  51.8189                   \n",
       "observed                     33228  0.78813                   \n",
       "unbridged_after_gb           33228  0.620501                  \n",
       "gb_bool                      33228  0.527567                  \n",
       "days_since_ses_1             33228  29.3918                   \n",
       "\n",
       "                                                  std              min  \\\n",
       "session_id                   12500.4                   299889            \n",
       "tutor_id                     167383                    2                 \n",
       "student_id                   127141                    52                \n",
       "feedback_score               0.458153                  0                 \n",
       "wait_time                    88.37                     1.36771           \n",
       "student_rating               1.53107                   0                 \n",
       "length_of_session            1.61202e+08              -1.49565e+09       \n",
       "avg_tutor_response_time      1036.87                   0.00503778        \n",
       "max_tutor_response_time      1038.52                   0.00503778        \n",
       "tutor_math_exam_score        10.6019                   12                \n",
       "tutor_physics_exam_score     25.4473                   0                 \n",
       "tutor_chemistry_exam_score   25.4264                   0                 \n",
       "tutor_age                    13.5489                   15                \n",
       "student_transactions_amount  24989.6                   0                 \n",
       "session_count                64.1521                   1                 \n",
       "gb_count                     41.1446                   0                 \n",
       "gb_rate                      0.332728                  0                 \n",
       "time_to_gb                   107 days 18:47:18.175501  0 days 00:00:00   \n",
       "days_to_gb                   107.641                   1                 \n",
       "observed                     0.408639                  0                 \n",
       "unbridged_after_gb           0.48527                   0                 \n",
       "gb_bool                      0.499247                  0                 \n",
       "days_since_ses_1             56.339                    0                 \n",
       "\n",
       "                                         25%              50%  \\\n",
       "session_id                   311566           322512            \n",
       "tutor_id                     34864            54661             \n",
       "student_id                   385563           424178            \n",
       "feedback_score               0                0.9               \n",
       "wait_time                    5.77364          8.16371           \n",
       "student_rating               5                5                 \n",
       "length_of_session            429.996          1004.28           \n",
       "avg_tutor_response_time      14.2241          19.2501           \n",
       "max_tutor_response_time      34.4697          53.4737           \n",
       "tutor_math_exam_score        84               92                \n",
       "tutor_physics_exam_score     32               60                \n",
       "tutor_chemistry_exam_score   56               68                \n",
       "tutor_age                    25               34                \n",
       "student_transactions_amount  0                0                 \n",
       "session_count                2                7                 \n",
       "gb_count                     1                3                 \n",
       "gb_rate                      0.2              0.5               \n",
       "time_to_gb                   0 days 00:00:00  0 days 00:00:00   \n",
       "days_to_gb                   1                1                 \n",
       "observed                     1                1                 \n",
       "unbridged_after_gb           0                1                 \n",
       "gb_bool                      0                1                 \n",
       "days_since_ses_1             0                1                 \n",
       "\n",
       "                                          75%                max  \n",
       "session_id                   332902            343367             \n",
       "tutor_id                     300294            531110             \n",
       "student_id                   522692            609630             \n",
       "feedback_score               1                 1                  \n",
       "wait_time                    13.7699           3450.46            \n",
       "student_rating               5                 5                  \n",
       "length_of_session            1970.74           1.48606e+09        \n",
       "avg_tutor_response_time      26.2056           129541             \n",
       "max_tutor_response_time      81.7549           129541             \n",
       "tutor_math_exam_score        100               100                \n",
       "tutor_physics_exam_score     80                96                 \n",
       "tutor_chemistry_exam_score   84                92                 \n",
       "tutor_age                    52                62                 \n",
       "student_transactions_amount  15454             303682             \n",
       "session_count                39                361                \n",
       "gb_count                     20                252                \n",
       "gb_rate                      0.734694          1                  \n",
       "time_to_gb                   13 days 21:19:35  385 days 22:07:14  \n",
       "days_to_gb                   14                386                \n",
       "observed                     1                 1                  \n",
       "unbridged_after_gb           1                 1                  \n",
       "gb_bool                      1                 1                  \n",
       "days_since_ses_1             32                385                "
      ]
     },
     "execution_count": 59,
     "metadata": {},
     "output_type": "execute_result"
    }
   ],
   "source": [
    "ses_1_42[(pd.notnull(ses_1_42.length_of_session)) & (pd.notnull(ses_1_42.avg_tutor_response_time)) & (pd.notnull(ses_1_42.max_tutor_response_time))].describe().T"
   ]
  },
  {
   "cell_type": "markdown",
   "metadata": {},
   "source": [
    "## Students"
   ]
  },
  {
   "cell_type": "code",
   "execution_count": 17,
   "metadata": {
    "collapsed": false
   },
   "outputs": [],
   "source": [
    "# New Transformations\n",
    "ses_1_42 = ses_1_42.merge(students, on = 'student_id')\n",
    "ses_1_42.loc[ses_1_42.consolidated_session_category == \"gap-bridged\", 'gb_bool'] = 1\n",
    "ses_1_42.loc[ses_1_42.consolidated_session_category != \"gap-bridged\", 'gb_bool'] = 0\n",
    "ses_1_42['days_since_ses_1'] = (ses_1_42.timestamp_clean - ses_1_42.first_session ).astype('timedelta64[D]')"
   ]
  },
  {
   "cell_type": "code",
   "execution_count": 38,
   "metadata": {
    "collapsed": false
   },
   "outputs": [
    {
     "data": {
      "text/plain": [
       "<matplotlib.text.Text at 0x15448d610>"
      ]
     },
     "execution_count": 38,
     "metadata": {},
     "output_type": "execute_result"
    },
    {
     "data": {
      "image/png": "[encoded data removed]",
      "text/plain": [
       "<matplotlib.figure.Figure at 0x154329c50>"
      ]
     },
     "metadata": {},
     "output_type": "display_data"
    }
   ],
   "source": [
    "\n",
    "students.session_count.hist()\n",
    "plt.xlabel(\"Total Sessions\")\n",
    "plt.ylabel(\"# of students\")\n"
   ]
  },
  {
   "cell_type": "markdown",
   "metadata": {},
   "source": [
    "* Almost all students have participated in less than 40 sessions."
   ]
  },
  {
   "cell_type": "code",
   "execution_count": 40,
   "metadata": {
    "collapsed": false
   },
   "outputs": [
    {
     "data": {
      "text/plain": [
       "<matplotlib.text.Text at 0x1549092d0>"
      ]
     },
     "execution_count": 40,
     "metadata": {},
     "output_type": "execute_result"
    },
    {
     "data": {
      "image/png": "[encoded data removed]",
      "text/plain": [
       "<matplotlib.figure.Figure at 0x14ef9fe50>"
      ]
     },
     "metadata": {},
     "output_type": "display_data"
    }
   ],
   "source": [
    "\n",
    "students[students.session_count< 40].session_count.hist(bins = 8)\n",
    "plt.xlabel(\"Total Sessions\")\n",
    "plt.ylabel(\"# of students\")"
   ]
  },
  {
   "cell_type": "markdown",
   "metadata": {},
   "source": [
    "* Of these students with 40 or less sessions there remains a large cluster with 5 or less sessions."
   ]
  },
  {
   "cell_type": "code",
   "execution_count": 43,
   "metadata": {
    "collapsed": false
   },
   "outputs": [
    {
     "data": {
      "text/plain": [
       "<matplotlib.text.Text at 0x16566ba50>"
      ]
     },
     "execution_count": 43,
     "metadata": {},
     "output_type": "execute_result"
    },
    {
     "data": {
      "image/png": "[encoded data removed]",
      "text/plain": [
       "<matplotlib.figure.Figure at 0x154554350>"
      ]
     },
     "metadata": {},
     "output_type": "display_data"
    }
   ],
   "source": [
    "\n",
    "students[(students.session_count>=3)&(students.session_count<=20)].session_count.hist(bins = 17)\n",
    "plt.xlabel(\"Total Sessions\")\n",
    "plt.ylabel(\"# of students\")"
   ]
  },
  {
   "cell_type": "markdown",
   "metadata": {},
   "source": [
    "* Here's a view looking at students with at least 3 sessions, but less than 20. \n",
    "* I would classify these students as the useable population for the analysis. There are 2970 students in this subset."
   ]
  },
  {
   "cell_type": "code",
   "execution_count": 48,
   "metadata": {
    "collapsed": false
   },
   "outputs": [
    {
     "data": {
      "text/plain": [
       "<matplotlib.text.Text at 0x1659ad710>"
      ]
     },
     "execution_count": 48,
     "metadata": {},
     "output_type": "execute_result"
    },
    {
     "data": {
      "image/png": "[encoded data removed]",
      "text/plain": [
       "<matplotlib.figure.Figure at 0x1658d2fd0>"
      ]
     },
     "metadata": {},
     "output_type": "display_data"
    }
   ],
   "source": [
    "ses_1_42.days_since_ses_1.hist(bins = 54)\n",
    "plt.xlabel(\"Days since students first session\")\n",
    "plt.ylabel(\"# of sessions\")\n",
    "\n"
   ]
  },
  {
   "cell_type": "markdown",
   "metadata": {},
   "source": [
    "* This shows that the vast majority of users do not use over  a long period of time most students will complete all their sessions within the space of a few days."
   ]
  },
  {
   "cell_type": "markdown",
   "metadata": {},
   "source": [
    "* Here's a comparison of mean for a selection of numerical variables grouped by 'gb_bool' (a boolean of whether gap-bridged was achieved or not.\n",
    "    * wait_time(seconds) - gap bridged sessions have approx half the wait time as non-gap bridged.\n",
    "    * len"
   ]
  },
  {
   "cell_type": "code",
   "execution_count": 58,
   "metadata": {
    "collapsed": false
   },
   "outputs": [
    {
     "data": {
      "text/html": [
       "<div>\n",
       "<table border=\"1\" class=\"dataframe\">\n",
       "  <thead>\n",
       "    <tr style=\"text-align: right;\">\n",
       "      <th>gb_bool</th>\n",
       "      <th>0.0</th>\n",
       "      <th>1.0</th>\n",
       "    </tr>\n",
       "  </thead>\n",
       "  <tbody>\n",
       "    <tr>\n",
       "      <th>wait_time</th>\n",
       "      <td>2.206801e+01</td>\n",
       "      <td>2.424483e+01</td>\n",
       "    </tr>\n",
       "    <tr>\n",
       "      <th>length_of_session</th>\n",
       "      <td>-1.670071e+07</td>\n",
       "      <td>-1.538359e+07</td>\n",
       "    </tr>\n",
       "    <tr>\n",
       "      <th>student_complained</th>\n",
       "      <td>4.118359e-01</td>\n",
       "      <td>3.342841e-01</td>\n",
       "    </tr>\n",
       "    <tr>\n",
       "      <th>avg_tutor_response_time</th>\n",
       "      <td>3.773124e+01</td>\n",
       "      <td>2.794309e+01</td>\n",
       "    </tr>\n",
       "    <tr>\n",
       "      <th>max_tutor_response_time</th>\n",
       "      <td>7.148899e+01</td>\n",
       "      <td>8.287077e+01</td>\n",
       "    </tr>\n",
       "  </tbody>\n",
       "</table>\n",
       "</div>"
      ],
      "text/plain": [
       "gb_bool                           0.0           1.0\n",
       "wait_time                2.206801e+01  2.424483e+01\n",
       "length_of_session       -1.670071e+07 -1.538359e+07\n",
       "student_complained       4.118359e-01  3.342841e-01\n",
       "avg_tutor_response_time  3.773124e+01  2.794309e+01\n",
       "max_tutor_response_time  7.148899e+01  8.287077e+01"
      ]
     },
     "execution_count": 58,
     "metadata": {},
     "output_type": "execute_result"
    }
   ],
   "source": [
    "ses_1_42[(pd.notnull(ses_1_42.length_of_session)) & (pd.notnull(ses_1_42.avg_tutor_response_time)) & (pd.notnull(ses_1_42.max_tutor_response_time))].groupby('gb_bool').mean()[['wait_time', 'length_of_session', 'student_complained','avg_tutor_response_time','max_tutor_response_time']].T\n",
    "\n",
    "\n",
    "\n"
   ]
  },
  {
   "cell_type": "code",
   "execution_count": 59,
   "metadata": {
    "collapsed": false
   },
   "outputs": [
    {
     "data": {
      "text/html": [
       "<div>\n",
       "<table border=\"1\" class=\"dataframe\">\n",
       "  <thead>\n",
       "    <tr style=\"text-align: right;\">\n",
       "      <th></th>\n",
       "      <th>count</th>\n",
       "      <th>mean</th>\n",
       "      <th>std</th>\n",
       "      <th>min</th>\n",
       "      <th>25%</th>\n",
       "      <th>50%</th>\n",
       "      <th>75%</th>\n",
       "      <th>max</th>\n",
       "    </tr>\n",
       "  </thead>\n",
       "  <tbody>\n",
       "    <tr>\n",
       "      <th>session_id</th>\n",
       "      <td>33228</td>\n",
       "      <td>322191</td>\n",
       "      <td>12500.4</td>\n",
       "      <td>299889</td>\n",
       "      <td>311566</td>\n",
       "      <td>322512</td>\n",
       "      <td>332902</td>\n",
       "      <td>343367</td>\n",
       "    </tr>\n",
       "    <tr>\n",
       "      <th>tutor_id</th>\n",
       "      <td>33228</td>\n",
       "      <td>159749</td>\n",
       "      <td>167383</td>\n",
       "      <td>2</td>\n",
       "      <td>34864</td>\n",
       "      <td>54661</td>\n",
       "      <td>300294</td>\n",
       "      <td>531110</td>\n",
       "    </tr>\n",
       "    <tr>\n",
       "      <th>student_id</th>\n",
       "      <td>33228</td>\n",
       "      <td>421662</td>\n",
       "      <td>127141</td>\n",
       "      <td>52</td>\n",
       "      <td>385563</td>\n",
       "      <td>424178</td>\n",
       "      <td>522692</td>\n",
       "      <td>609630</td>\n",
       "    </tr>\n",
       "    <tr>\n",
       "      <th>feedback_score</th>\n",
       "      <td>33098</td>\n",
       "      <td>0.62312</td>\n",
       "      <td>0.458153</td>\n",
       "      <td>0</td>\n",
       "      <td>0</td>\n",
       "      <td>0.9</td>\n",
       "      <td>1</td>\n",
       "      <td>1</td>\n",
       "    </tr>\n",
       "    <tr>\n",
       "      <th>wait_time</th>\n",
       "      <td>33228</td>\n",
       "      <td>23.2164</td>\n",
       "      <td>88.37</td>\n",
       "      <td>1.36771</td>\n",
       "      <td>5.77364</td>\n",
       "      <td>8.16371</td>\n",
       "      <td>13.7699</td>\n",
       "      <td>3450.46</td>\n",
       "    </tr>\n",
       "    <tr>\n",
       "      <th>student_rating</th>\n",
       "      <td>30226</td>\n",
       "      <td>4.19751</td>\n",
       "      <td>1.53107</td>\n",
       "      <td>0</td>\n",
       "      <td>5</td>\n",
       "      <td>5</td>\n",
       "      <td>5</td>\n",
       "      <td>5</td>\n",
       "    </tr>\n",
       "    <tr>\n",
       "      <th>length_of_session</th>\n",
       "      <td>33228</td>\n",
       "      <td>-1.60058e+07</td>\n",
       "      <td>1.61202e+08</td>\n",
       "      <td>-1.49565e+09</td>\n",
       "      <td>429.996</td>\n",
       "      <td>1004.28</td>\n",
       "      <td>1970.74</td>\n",
       "      <td>1.48606e+09</td>\n",
       "    </tr>\n",
       "    <tr>\n",
       "      <th>avg_tutor_response_time</th>\n",
       "      <td>33228</td>\n",
       "      <td>32.5673</td>\n",
       "      <td>1036.87</td>\n",
       "      <td>0.00503778</td>\n",
       "      <td>14.2241</td>\n",
       "      <td>19.2501</td>\n",
       "      <td>26.2056</td>\n",
       "      <td>129541</td>\n",
       "    </tr>\n",
       "    <tr>\n",
       "      <th>max_tutor_response_time</th>\n",
       "      <td>33228</td>\n",
       "      <td>77.4936</td>\n",
       "      <td>1038.52</td>\n",
       "      <td>0.00503778</td>\n",
       "      <td>34.4697</td>\n",
       "      <td>53.4737</td>\n",
       "      <td>81.7549</td>\n",
       "      <td>129541</td>\n",
       "    </tr>\n",
       "    <tr>\n",
       "      <th>tutor_math_exam_score</th>\n",
       "      <td>27810</td>\n",
       "      <td>89.4899</td>\n",
       "      <td>10.6019</td>\n",
       "      <td>12</td>\n",
       "      <td>84</td>\n",
       "      <td>92</td>\n",
       "      <td>100</td>\n",
       "      <td>100</td>\n",
       "    </tr>\n",
       "    <tr>\n",
       "      <th>tutor_physics_exam_score</th>\n",
       "      <td>4195</td>\n",
       "      <td>58.564</td>\n",
       "      <td>25.4473</td>\n",
       "      <td>0</td>\n",
       "      <td>32</td>\n",
       "      <td>60</td>\n",
       "      <td>80</td>\n",
       "      <td>96</td>\n",
       "    </tr>\n",
       "    <tr>\n",
       "      <th>tutor_chemistry_exam_score</th>\n",
       "      <td>4092</td>\n",
       "      <td>64.0254</td>\n",
       "      <td>25.4264</td>\n",
       "      <td>0</td>\n",
       "      <td>56</td>\n",
       "      <td>68</td>\n",
       "      <td>84</td>\n",
       "      <td>92</td>\n",
       "    </tr>\n",
       "    <tr>\n",
       "      <th>tutor_age</th>\n",
       "      <td>33020</td>\n",
       "      <td>37.4719</td>\n",
       "      <td>13.5489</td>\n",
       "      <td>15</td>\n",
       "      <td>25</td>\n",
       "      <td>34</td>\n",
       "      <td>52</td>\n",
       "      <td>62</td>\n",
       "    </tr>\n",
       "    <tr>\n",
       "      <th>student_transactions_amount</th>\n",
       "      <td>33228</td>\n",
       "      <td>12468.1</td>\n",
       "      <td>24989.6</td>\n",
       "      <td>0</td>\n",
       "      <td>0</td>\n",
       "      <td>0</td>\n",
       "      <td>15454</td>\n",
       "      <td>303682</td>\n",
       "    </tr>\n",
       "    <tr>\n",
       "      <th>session_count</th>\n",
       "      <td>33228</td>\n",
       "      <td>35.516</td>\n",
       "      <td>64.1521</td>\n",
       "      <td>1</td>\n",
       "      <td>2</td>\n",
       "      <td>7</td>\n",
       "      <td>39</td>\n",
       "      <td>361</td>\n",
       "    </tr>\n",
       "    <tr>\n",
       "      <th>gb_count</th>\n",
       "      <td>33228</td>\n",
       "      <td>20.9128</td>\n",
       "      <td>41.1446</td>\n",
       "      <td>0</td>\n",
       "      <td>1</td>\n",
       "      <td>3</td>\n",
       "      <td>20</td>\n",
       "      <td>252</td>\n",
       "    </tr>\n",
       "    <tr>\n",
       "      <th>gb_rate</th>\n",
       "      <td>33228</td>\n",
       "      <td>0.4788</td>\n",
       "      <td>0.332728</td>\n",
       "      <td>0</td>\n",
       "      <td>0.2</td>\n",
       "      <td>0.5</td>\n",
       "      <td>0.734694</td>\n",
       "      <td>1</td>\n",
       "    </tr>\n",
       "    <tr>\n",
       "      <th>time_to_gb</th>\n",
       "      <td>33228</td>\n",
       "      <td>50 days 23:32:28.037829</td>\n",
       "      <td>107 days 18:47:18.175501</td>\n",
       "      <td>0 days 00:00:00</td>\n",
       "      <td>0 days 00:00:00</td>\n",
       "      <td>0 days 00:00:00</td>\n",
       "      <td>13 days 21:19:35</td>\n",
       "      <td>385 days 22:07:14</td>\n",
       "    </tr>\n",
       "    <tr>\n",
       "      <th>days_to_gb</th>\n",
       "      <td>33228</td>\n",
       "      <td>51.8189</td>\n",
       "      <td>107.641</td>\n",
       "      <td>1</td>\n",
       "      <td>1</td>\n",
       "      <td>1</td>\n",
       "      <td>14</td>\n",
       "      <td>386</td>\n",
       "    </tr>\n",
       "    <tr>\n",
       "      <th>observed</th>\n",
       "      <td>33228</td>\n",
       "      <td>0.78813</td>\n",
       "      <td>0.408639</td>\n",
       "      <td>0</td>\n",
       "      <td>1</td>\n",
       "      <td>1</td>\n",
       "      <td>1</td>\n",
       "      <td>1</td>\n",
       "    </tr>\n",
       "    <tr>\n",
       "      <th>unbridged_after_gb</th>\n",
       "      <td>33228</td>\n",
       "      <td>0.620501</td>\n",
       "      <td>0.48527</td>\n",
       "      <td>0</td>\n",
       "      <td>0</td>\n",
       "      <td>1</td>\n",
       "      <td>1</td>\n",
       "      <td>1</td>\n",
       "    </tr>\n",
       "    <tr>\n",
       "      <th>gb_bool</th>\n",
       "      <td>33228</td>\n",
       "      <td>0.527567</td>\n",
       "      <td>0.499247</td>\n",
       "      <td>0</td>\n",
       "      <td>0</td>\n",
       "      <td>1</td>\n",
       "      <td>1</td>\n",
       "      <td>1</td>\n",
       "    </tr>\n",
       "    <tr>\n",
       "      <th>days_since_ses_1</th>\n",
       "      <td>33228</td>\n",
       "      <td>29.3918</td>\n",
       "      <td>56.339</td>\n",
       "      <td>0</td>\n",
       "      <td>0</td>\n",
       "      <td>1</td>\n",
       "      <td>32</td>\n",
       "      <td>385</td>\n",
       "    </tr>\n",
       "  </tbody>\n",
       "</table>\n",
       "</div>"
      ],
      "text/plain": [
       "                             count                     mean  \\\n",
       "session_id                   33228  322191                    \n",
       "tutor_id                     33228  159749                    \n",
       "student_id                   33228  421662                    \n",
       "feedback_score               33098  0.62312                   \n",
       "wait_time                    33228  23.2164                   \n",
       "student_rating               30226  4.19751                   \n",
       "length_of_session            33228 -1.60058e+07               \n",
       "avg_tutor_response_time      33228  32.5673                   \n",
       "max_tutor_response_time      33228  77.4936                   \n",
       "tutor_math_exam_score        27810  89.4899                   \n",
       "tutor_physics_exam_score     4195   58.564                    \n",
       "tutor_chemistry_exam_score   4092   64.0254                   \n",
       "tutor_age                    33020  37.4719                   \n",
       "student_transactions_amount  33228  12468.1                   \n",
       "session_count                33228  35.516                    \n",
       "gb_count                     33228  20.9128                   \n",
       "gb_rate                      33228  0.4788                    \n",
       "time_to_gb                   33228  50 days 23:32:28.037829   \n",
       "days_to_gb                   33228  51.8189                   \n",
       "observed                     33228  0.78813                   \n",
       "unbridged_after_gb           33228  0.620501                  \n",
       "gb_bool                      33228  0.527567                  \n",
       "days_since_ses_1             33228  29.3918                   \n",
       "\n",
       "                                                  std              min  \\\n",
       "session_id                   12500.4                   299889            \n",
       "tutor_id                     167383                    2                 \n",
       "student_id                   127141                    52                \n",
       "feedback_score               0.458153                  0                 \n",
       "wait_time                    88.37                     1.36771           \n",
       "student_rating               1.53107                   0                 \n",
       "length_of_session            1.61202e+08              -1.49565e+09       \n",
       "avg_tutor_response_time      1036.87                   0.00503778        \n",
       "max_tutor_response_time      1038.52                   0.00503778        \n",
       "tutor_math_exam_score        10.6019                   12                \n",
       "tutor_physics_exam_score     25.4473                   0                 \n",
       "tutor_chemistry_exam_score   25.4264                   0                 \n",
       "tutor_age                    13.5489                   15                \n",
       "student_transactions_amount  24989.6                   0                 \n",
       "session_count                64.1521                   1                 \n",
       "gb_count                     41.1446                   0                 \n",
       "gb_rate                      0.332728                  0                 \n",
       "time_to_gb                   107 days 18:47:18.175501  0 days 00:00:00   \n",
       "days_to_gb                   107.641                   1                 \n",
       "observed                     0.408639                  0                 \n",
       "unbridged_after_gb           0.48527                   0                 \n",
       "gb_bool                      0.499247                  0                 \n",
       "days_since_ses_1             56.339                    0                 \n",
       "\n",
       "                                         25%              50%  \\\n",
       "session_id                   311566           322512            \n",
       "tutor_id                     34864            54661             \n",
       "student_id                   385563           424178            \n",
       "feedback_score               0                0.9               \n",
       "wait_time                    5.77364          8.16371           \n",
       "student_rating               5                5                 \n",
       "length_of_session            429.996          1004.28           \n",
       "avg_tutor_response_time      14.2241          19.2501           \n",
       "max_tutor_response_time      34.4697          53.4737           \n",
       "tutor_math_exam_score        84               92                \n",
       "tutor_physics_exam_score     32               60                \n",
       "tutor_chemistry_exam_score   56               68                \n",
       "tutor_age                    25               34                \n",
       "student_transactions_amount  0                0                 \n",
       "session_count                2                7                 \n",
       "gb_count                     1                3                 \n",
       "gb_rate                      0.2              0.5               \n",
       "time_to_gb                   0 days 00:00:00  0 days 00:00:00   \n",
       "days_to_gb                   1                1                 \n",
       "observed                     1                1                 \n",
       "unbridged_after_gb           0                1                 \n",
       "gb_bool                      0                1                 \n",
       "days_since_ses_1             0                1                 \n",
       "\n",
       "                                          75%                max  \n",
       "session_id                   332902            343367             \n",
       "tutor_id                     300294            531110             \n",
       "student_id                   522692            609630             \n",
       "feedback_score               1                 1                  \n",
       "wait_time                    13.7699           3450.46            \n",
       "student_rating               5                 5                  \n",
       "length_of_session            1970.74           1.48606e+09        \n",
       "avg_tutor_response_time      26.2056           129541             \n",
       "max_tutor_response_time      81.7549           129541             \n",
       "tutor_math_exam_score        100               100                \n",
       "tutor_physics_exam_score     80                96                 \n",
       "tutor_chemistry_exam_score   84                92                 \n",
       "tutor_age                    52                62                 \n",
       "student_transactions_amount  15454             303682             \n",
       "session_count                39                361                \n",
       "gb_count                     20                252                \n",
       "gb_rate                      0.734694          1                  \n",
       "time_to_gb                   13 days 21:19:35  385 days 22:07:14  \n",
       "days_to_gb                   14                386                \n",
       "observed                     1                 1                  \n",
       "unbridged_after_gb           1                 1                  \n",
       "gb_bool                      1                 1                  \n",
       "days_since_ses_1             32                385                "
      ]
     },
     "execution_count": 59,
     "metadata": {},
     "output_type": "execute_result"
    }
   ],
   "source": [
    "#LOOK AT MAX MIN AND CREATE BETTTER VARIABLES WITH MESSAGE DATA\n",
    "ses_1_42[(pd.notnull(ses_1_42.length_of_session)) & (pd.notnull(ses_1_42.avg_tutor_response_time)) & (pd.notnull(ses_1_42.max_tutor_response_time))].describe().T"
   ]
  },
  {
   "cell_type": "code",
   "execution_count": 34,
   "metadata": {
    "collapsed": false
   },
   "outputs": [
    {
     "data": {
      "text/plain": [
       "<matplotlib.axes._subplots.AxesSubplot at 0x11265f590>"
      ]
     },
     "execution_count": 34,
     "metadata": {},
     "output_type": "execute_result"
    },
    {
     "data": {
      "image/png": "[encoded data removed]",
      "text/plain": [
       "<matplotlib.figure.Figure at 0x11265dc90>"
      ]
     },
     "metadata": {},
     "output_type": "display_data"
    }
   ],
   "source": [
    "students_full.question_student_count_ratio.hist(bins=100)"
   ]
  },
  {
   "cell_type": "code",
   "execution_count": 37,
   "metadata": {
    "collapsed": false
   },
   "outputs": [
    {
     "data": {
      "text/plain": [
       "<matplotlib.text.Text at 0x112667850>"
      ]
     },
     "execution_count": 37,
     "metadata": {},
     "output_type": "execute_result"
    },
    {
     "data": {
      "image/png": "[encoded data removed]",
      "text/plain": [
       "<matplotlib.figure.Figure at 0x1125d53d0>"
      ]
     },
     "metadata": {},
     "output_type": "display_data"
    }
   ],
   "source": [
    "plt.scatter(students_full[students_full.session_count >2].question_student_count_ratio, students_full[students_full.session_count >2].session_count)\n",
    "plt.xlabel('Questions per session')\n",
    "plt.ylabel('total sessions completed by student')\n",
    "\n"
   ]
  },
  {
   "cell_type": "code",
   "execution_count": 50,
   "metadata": {
    "collapsed": false
   },
   "outputs": [
    {
     "name": "stdout",
     "output_type": "stream",
     "text": [
      "mean questions per session over .5 gb rate\n",
      "7.84197878656\n",
      "mean questions per session below .5 gb rate\n",
      "3.29603433612\n"
     ]
    },
    {
     "data": {
      "image/png": "[encoded data removed]",
      "text/plain": [
       "<matplotlib.figure.Figure at 0x1125d2f90>"
      ]
     },
     "metadata": {},
     "output_type": "display_data"
    }
   ],
   "source": [
    "plt.scatter(students_full[students_full.session_count >2].question_student_count_ratio,\\\n",
    "            students_full[students_full.session_count >2].gb_rate\\\n",
    "           , alpha = 0.2)\n",
    "plt.xlabel('Questions per session')\n",
    "plt.ylabel('Gap Bridged Ratio by student')\n",
    "\n",
    "print 'mean questions per session over .5 gb rate'\n",
    "print students_full[students_full.gb_rate >= 0.5].question_student_count_ratio.mean()\n",
    "print 'mean questions per session below .5 gb rate'\n",
    "print students_full[students_full.gb_rate < 0.5].question_student_count_ratio.mean()"
   ]
  },
  {
   "cell_type": "code",
   "execution_count": 174,
   "metadata": {
    "collapsed": false
   },
   "outputs": [
    {
     "data": {
      "image/png": "[encoded data removed]",
      "text/plain": [
       "<matplotlib.figure.Figure at 0x250c99a10>"
      ]
     },
     "metadata": {},
     "output_type": "display_data"
    }
   ],
   "source": [
    "# Average number of questions\n",
    "average_num_student_questions_by_session_number = ses_full[ses_full.session_count >=5].groupby('ses_num_order')['question_student_count'].mean()\n",
    "x = average_num_student_questions_by_session_number.index[:5]\n",
    "y = average_num_student_questions_by_session_number.values[:5]\n",
    "z = np.polyfit(x, y, 1)\n",
    "p = np.poly1d(z)\n",
    "#pylab.plot(x,p(x),\"r--\")\n",
    "\n",
    "plt.plot(x, p(x), alpha = 0.5, color = 'red', label = 'trend line')\\\n",
    "           #, c = gb_rate_by_session_number.values[:30])\n",
    "plt.scatter(x, y, label = 'data points')\n",
    "plt.xlabel('Session Number', size = 12)\n",
    "plt.ylabel('Average # of Student Questions', size = 12)\n",
    "plt.xticks(np.arange(min(x)-1, max(x)+1, 2.0))\n",
    "#plt.legend(loc='lower right')\n",
    "plt.style.use('fivethirtyeight')\n",
    "plt.savefig('images/blogplot1.png', bbox_inches = 'tight')\n",
    "##plt.colorbar()"
   ]
  },
  {
   "cell_type": "code",
   "execution_count": 69,
   "metadata": {
    "collapsed": false
   },
   "outputs": [
    {
     "data": {
      "image/png": "[encoded data removed]",
      "text/plain": [
       "<matplotlib.figure.Figure at 0x2028e4310>"
      ]
     },
     "metadata": {},
     "output_type": "display_data"
    }
   ],
   "source": [
    "# gb rate per question asked\n",
    "gb_rate_by_question_number = ses_full[ses_full.ses_num_order==1].groupby('question_student_count')['gb_bool'].mean()\n",
    "avg_session_count_by_question_number = ses_full[ses_full.ses_num_order==1].groupby('question_student_count')['session_count'].mean()\n",
    "\n",
    "x = gb_rate_by_question_number.index[:11]\n",
    "y = [y*100 for y in gb_rate_by_question_number.values[:11]]\n",
    "c = avg_session_count_by_question_number[:12]\n",
    "plt.figure(figsize = (12,10))\n",
    "plt.bar(x,y)\n",
    "plt.title(\"Student Success linked to how many Questions Asked\")\n",
    "plt.ylabel('%  Successful Sessions', size = 12)\n",
    "plt.xlabel('Questions asked', size = 12)\n",
    "plt.xticks(np.arange(min(x), max(x)+1, 1.0), size = 10)\n",
    "plt.yticks(np.arange(0, 100, 20), size = 10)\n",
    "plt.style.use('fivethirtyeight')\n",
    "\n",
    "plt.savefig('images/blogplot1.png', bbox_inches = 'tight')\n",
    "\n",
    "#% Gap Bridge * Number of questions\n",
    "# Looking at first session\n",
    "# Account for dependency\n",
    "\n",
    "# Read Paper\n",
    "\n",
    "# Learning more"
   ]
  },
  {
   "cell_type": "code",
   "execution_count": 80,
   "metadata": {
    "collapsed": false,
    "scrolled": true
   },
   "outputs": [
    {
     "data": {
      "image/png": "[encoded data removed]",
      "text/plain": [
       "<matplotlib.figure.Figure at 0x20324b3d0>"
      ]
     },
     "metadata": {},
     "output_type": "display_data"
    }
   ],
   "source": [
    "gb_rate_by_ses_count =  students.groupby(\"five_thres\")['gb_count'].sum() / students.groupby(\"five_thres\")['counter'].sum() \n",
    "x = gb_rate_by_ses_count.index\n",
    "y = gb_rate_by_ses_count.values *100\n",
    "plt.figure(figsize = (12,10))\n",
    "plt.bar(x,y)\n",
    "plt.title(\"Student Success linked to Usage\")\n",
    "plt.xlabel('# of Sessions Completed by Student', size = 16)\n",
    "plt.ylabel('%  Successful Sessions', size = 16)\n",
    "plt.xticks(np.arange(1,6,1),('0-5','6-10', '11-15', '16-20','21+'), size = 12)\n",
    "plt.yticks( size = 12)\n",
    "plt.style.use('fivethirtyeight')\n",
    "\n",
    "plt.savefig('images/blogplot2.png', bbox_inches = 'tight')"
   ]
  },
  {
   "cell_type": "code",
   "execution_count": 83,
   "metadata": {
    "collapsed": false
   },
   "outputs": [
    {
     "data": {
      "text/plain": [
       "1388.6805844663916"
      ]
     },
     "execution_count": 83,
     "metadata": {},
     "output_type": "execute_result"
    }
   ],
   "source": [
    "ses[(ses.length_of_session > 0) & (ses.length_of_session < 724944)].length_of_session.mean()"
   ]
  },
  {
   "cell_type": "code",
   "execution_count": 35,
   "metadata": {
    "collapsed": false
   },
   "outputs": [
    {
     "data": {
      "text/plain": [
       "<matplotlib.text.Text at 0x139f0b490>"
      ]
     },
     "execution_count": 35,
     "metadata": {},
     "output_type": "execute_result"
    },
    {
     "data": {
      "image/png": "[encoded data removed]",
      "text/plain": [
       "<matplotlib.figure.Figure at 0x139a36fd0>"
      ]
     },
     "metadata": {},
     "output_type": "display_data"
    }
   ],
   "source": [
    "# gb rate per question asked\n",
    "avg_session_count_by_question_number = ses_full[ses_full.ses_num_order==1 ].groupby('question_student_count')['session_count'].mean()\n",
    "\n",
    "x = avg_session_count_by_question_number.index[:40]\n",
    "y = avg_session_count_by_question_number.values[:40]\n",
    "c = avg_session_count_by_question_number[:20]\n",
    "plt.bar(x,y)\n",
    "plt.xlabel('Questions asked in 1st session', size = 12)\n",
    "plt.ylabel('gap bridged rate', size = 12)\n",
    "#plt.savefig('images/blogplot2.png', bbox_inches = 'tight')\n",
    "\n",
    "#% Gap Bridge * Number of questions\n",
    "# Looking at first session\n",
    "# Account for dependency\n",
    "\n",
    "# Read Paper\n",
    "# Learning more"
   ]
  },
  {
   "cell_type": "code",
   "execution_count": 185,
   "metadata": {
    "collapsed": false
   },
   "outputs": [
    {
     "name": "stdout",
     "output_type": "stream",
     "text": [
      "0.33380097269\n"
     ]
    },
    {
     "data": {
      "text/plain": [
       "0.6150375939849624"
      ]
     },
     "execution_count": 185,
     "metadata": {},
     "output_type": "execute_result"
    }
   ],
   "source": [
    "#Looking at lifetime learning rates for those that show a less curious behavior on session 1\n",
    "\n",
    "print ses_full[(ses_full.ses_num_order==1 )& (ses_full.question_student_count<5)].gb_count.sum() / ses_full[(ses_full.ses_num_order==1 )& (ses_full.question_student_count<5)].session_count.sum()\n",
    "\n",
    "ses_full[(ses_full.ses_num_order==1 )& (ses_full.question_student_count>=5)].gb_count.sum() / ses_full[(ses_full.ses_num_order==1 )& (ses_full.question_student_count>=5)].session_count.sum()\n",
    "\n"
   ]
  },
  {
   "cell_type": "code",
   "execution_count": 77,
   "metadata": {
    "collapsed": false
   },
   "outputs": [],
   "source": [
    "tholds = [0,5,10,15,20,25]\n",
    "students.loc[(students.session_count > -1) & (students.session_count <= 5), \"five_thres\"] = 1\n",
    "students.loc[(students.session_count > 5) & (students.session_count <= 10), \"five_thres\"] = 2\n",
    "students.loc[(students.session_count > 10) & (students.session_count <= 15), \"five_thres\"] = 3\n",
    "students.loc[(students.session_count > 15) & (students.session_count <= 20), \"five_thres\"] = 4\n",
    "students.loc[(students.session_count > 20), \"five_thres\"] = 5\n"
   ]
  },
  {
   "cell_type": "code",
   "execution_count": 70,
   "metadata": {
    "collapsed": false
   },
   "outputs": [
    {
     "name": "stdout",
     "output_type": "stream",
     "text": [
      "(5, 86)\n",
      "(2602, 86)\n",
      "(2076, 86)\n",
      "(1363, 86)\n",
      "(907, 86)\n",
      "(640, 86)\n",
      "(497, 86)\n",
      "(384, 86)\n",
      "(313, 86)\n",
      "(303, 86)\n"
     ]
    }
   ],
   "source": [
    "for i in range (10):\n",
    "    print ses_full[(ses_full.question_student_count == i) & (ses_full.ses_num_order== 1)].shape"
   ]
  },
  {
   "cell_type": "code",
   "execution_count": 138,
   "metadata": {
    "collapsed": false,
    "scrolled": true
   },
   "outputs": [
    {
     "data": {
      "text/plain": [
       "ses_num_order\n",
       "1      66.995578 \n",
       "2      64.167023 \n",
       "3      60.182751 \n",
       "4      61.024136 \n",
       "5      61.512233 \n",
       "6      59.202628 \n",
       "7      57.228490 \n",
       "8      57.441222 \n",
       "9      59.215852 \n",
       "10     54.995654 \n",
       "11     60.441002 \n",
       "12     56.709715 \n",
       "13     56.922763 \n",
       "14     55.608095 \n",
       "15     56.731741 \n",
       "16     57.258622 \n",
       "17     58.922290 \n",
       "18     56.931910 \n",
       "19     51.459650 \n",
       "20     54.042712 \n",
       "21     57.139233 \n",
       "22     57.417018 \n",
       "23     55.687059 \n",
       "24     54.572443 \n",
       "25     60.685813 \n",
       "26     59.097492 \n",
       "27     58.557772 \n",
       "28     56.393113 \n",
       "29     57.461154 \n",
       "30     64.110357 \n",
       "         ...     \n",
       "295    45.454545 \n",
       "296    64.090909 \n",
       "297    54.172414 \n",
       "298    60.187500 \n",
       "299    66.750000 \n",
       "300    49.241379 \n",
       "301    46.757895 \n",
       "302    43.444444 \n",
       "303    36.135135 \n",
       "304    41.500000 \n",
       "305    45.142857 \n",
       "306    41.000000 \n",
       "307    5.500000  \n",
       "308    4.000000  \n",
       "309    24.666667 \n",
       "310    15.666667 \n",
       "311    26.666667 \n",
       "312    18.000000 \n",
       "313    34.000000 \n",
       "314    21.346154 \n",
       "315    19.750000 \n",
       "316    52.571429 \n",
       "317    47.636364 \n",
       "318    10.000000 \n",
       "319    85.500000 \n",
       "320    45.880000 \n",
       "321    21.000000 \n",
       "322    24.000000 \n",
       "323    186.000000\n",
       "324    50.750000 \n",
       "dtype: float64"
      ]
     },
     "execution_count": 138,
     "metadata": {},
     "output_type": "execute_result"
    }
   ],
   "source": [
    "average_word_count_by_session_number / average_num_student_questions_by_session_number "
   ]
  },
  {
   "cell_type": "code",
   "execution_count": 133,
   "metadata": {
    "collapsed": false
   },
   "outputs": [
    {
     "data": {
      "text/plain": [
       "(0.014, 0.02)"
      ]
     },
     "execution_count": 133,
     "metadata": {},
     "output_type": "execute_result"
    },
    {
     "data": {
      "image/png": "[encoded data removed]",
      "text/plain": [
       "<matplotlib.figure.Figure at 0x1f1670310>"
      ]
     },
     "metadata": {},
     "output_type": "display_data"
    }
   ],
   "source": [
    "# questions per word\n",
    "average_word_count_by_session_number = ses_full.groupby('ses_num_order')['word_count'].mean()\n",
    "ques_over_words = average_num_student_questions_by_session_number / average_word_count_by_session_number\n",
    "plt.scatter(ques_over_words.index[:20],ques_over_words.values[:20])\n",
    "plt.ylim(0.014, 0.020)"
   ]
  },
  {
   "cell_type": "markdown",
   "metadata": {},
   "source": [
    "* Over the first 20 sessions the number of questions asked by students doubles\n",
    "* Over the same period learning sucees increases by 20 percentage points.\n",
    "* We see parabolas in steps\n",
    "    * Could this be a students giving up and leaving the smarter/suceesful students to continue"
   ]
  },
  {
   "cell_type": "markdown",
   "metadata": {},
   "source": [
    "* There is chicken or the egg effect, does the student ask more questions and the sesssion goes longer, or does the session go longer and thus more questions are asked.\n",
    "    * Working under the assumption that tutor behavior remains constant we can also assume that students are driving these longer sessions.\n",
    "* Also we have the sampling issue of who is sampled. More unsuccessful students are sampled in the lower session numbers. \n",
    "    * Angle 1 (critical): students are smart going in and they continue to be smart and curious as they use the app.\n",
    "    * Angle 2 (sympathetic): students are enabled by tutors to ask more questions and that curiousity is fostered by the app.\n"
   ]
  },
  {
   "cell_type": "code",
   "execution_count": 137,
   "metadata": {
    "collapsed": false,
    "scrolled": true
   },
   "outputs": [
    {
     "data": {
      "text/plain": [
       "ses_num_order\n",
       "1      4.385963 \n",
       "2      4.387307 \n",
       "3      4.186804 \n",
       "4      4.281718 \n",
       "5      4.241802 \n",
       "6      4.187272 \n",
       "7      4.083774 \n",
       "8      4.163862 \n",
       "9      4.149612 \n",
       "10     4.061329 \n",
       "11     4.130611 \n",
       "12     3.967886 \n",
       "13     4.070906 \n",
       "14     3.858956 \n",
       "15     4.000000 \n",
       "16     4.251036 \n",
       "17     4.173023 \n",
       "18     4.078163 \n",
       "19     3.887432 \n",
       "20     3.904965 \n",
       "21     3.960396 \n",
       "22     4.114994 \n",
       "23     4.013529 \n",
       "24     3.940053 \n",
       "25     4.321955 \n",
       "26     4.068966 \n",
       "27     4.098919 \n",
       "28     4.225806 \n",
       "29     4.112594 \n",
       "30     4.403226 \n",
       "         ...    \n",
       "295    3.454545 \n",
       "296    6.000000 \n",
       "297    3.379310 \n",
       "298    4.250000 \n",
       "299    4.750000 \n",
       "300    3.896552 \n",
       "301    3.452632 \n",
       "302    3.944444 \n",
       "303    3.027027 \n",
       "304    3.900000 \n",
       "305    4.285714 \n",
       "306    3.000000 \n",
       "307    3.000000 \n",
       "308    2.000000 \n",
       "309    2.000000 \n",
       "310    3.000000 \n",
       "311    3.333333 \n",
       "312    1.000000 \n",
       "313    4.142857 \n",
       "314    3.115385 \n",
       "315    3.562500 \n",
       "316    6.142857 \n",
       "317    6.090909 \n",
       "318    2.000000 \n",
       "319    12.500000\n",
       "320    6.040000 \n",
       "321    3.800000 \n",
       "322    6.000000 \n",
       "323    15.000000\n",
       "324    7.000000 \n",
       "dtype: float64"
      ]
     },
     "execution_count": 137,
     "metadata": {},
     "output_type": "execute_result"
    }
   ],
   "source": [
    "# Every X number of messages a question is asked.\n",
    "ses_full.groupby('ses_num_order')['stu_count_msg'].mean() / average_num_student_questions_by_session_number"
   ]
  },
  {
   "cell_type": "code",
   "execution_count": 53,
   "metadata": {
    "collapsed": false,
    "scrolled": true
   },
   "outputs": [
    {
     "data": {
      "image/png": "[encoded data removed]",
      "text/plain": [
       "<matplotlib.figure.Figure at 0x252b6c990>"
      ]
     },
     "metadata": {},
     "output_type": "display_data"
    }
   ],
   "source": [
    "ses_full[ses_full['session_count'] >10].groupby('ses_num_order')['question_student_count'].mean()[:50]\n",
    "x = ses_full[ses_full['session_count'] >10].groupby('ses_num_order')['question_student_count'].mean().index[:30]\n",
    "y = ses_full[ses_full['session_count'] >10].groupby('ses_num_order')['question_student_count'].mean().values[:30]\n",
    "plt.plot(x,y)\n",
    "plt.xlabel('Session Number', size = 12)\n",
    "plt.ylabel('gap bridged rate', size = 12)\n",
    "plt.savefig('images/blogplot2.png', bbox_inches = 'tight')\n"
   ]
  },
  {
   "cell_type": "code",
   "execution_count": 46,
   "metadata": {
    "collapsed": false
   },
   "outputs": [],
   "source": [
    "avg_high_level_by_sesnum = ses_full.groupby('ses_num_order')['high_level'].mean()\n",
    "avg_low_level_by_sesnum = ses_full.groupby('ses_num_order')['low_level'].mean()\n",
    "avg_high_level_ratio_by_sesnum = ses_full.groupby('ses_num_order')['high_level_ratio'].mean()"
   ]
  },
  {
   "cell_type": "code",
   "execution_count": 51,
   "metadata": {
    "collapsed": false
   },
   "outputs": [
    {
     "data": {
      "text/plain": [
       "<matplotlib.text.Text at 0x1295b6710>"
      ]
     },
     "execution_count": 51,
     "metadata": {},
     "output_type": "execute_result"
    },
    {
     "data": {
      "image/png": "[encoded data removed]",
      "text/plain": [
       "<matplotlib.figure.Figure at 0x1177bc410>"
      ]
     },
     "metadata": {},
     "output_type": "display_data"
    }
   ],
   "source": [
    "\n",
    "x = avg_high_level_by_sesnum.index[:30]\n",
    "y = avg_high_level_by_sesnum.values[:30]\n",
    "plt.plot(x,y)\n",
    "plt.xlabel('Session Number', size = 12)\n",
    "plt.ylabel('gap bridged rate', size = 12)"
   ]
  },
  {
   "cell_type": "markdown",
   "metadata": {},
   "source": [
    "# Messages"
   ]
  },
  {
   "cell_type": "code",
   "execution_count": 73,
   "metadata": {
    "collapsed": false
   },
   "outputs": [
    {
     "data": {
      "text/plain": [
       "session_id                object\n",
       "created_at                object\n",
       "sent_from                 object\n",
       "sent_to                   object\n",
       "content_type              object\n",
       "text                      object\n",
       "created_at_clean          object\n",
       "text_readable             object\n",
       "text_lower                object\n",
       "how                       int64 \n",
       "what                      int64 \n",
       "when                      int64 \n",
       "where                     int64 \n",
       "why                       int64 \n",
       "can                       int64 \n",
       "question_student_count    int64 \n",
       "first_word                object\n",
       "dtype: object"
      ]
     },
     "execution_count": 73,
     "metadata": {},
     "output_type": "execute_result"
    }
   ],
   "source": [
    "#message processing, look closly at the following variables:\n",
    "#[['wait_time', 'length_of_session', 'student_complained','avg_tutor_response_time','max_tutor_response_time']]\n",
    "\n",
    "#Should be able to define these easily from message data without so many nans\n",
    "msg.dtypes\n"
   ]
  },
  {
   "cell_type": "code",
   "execution_count": 96,
   "metadata": {
    "collapsed": false,
    "scrolled": true
   },
   "outputs": [
    {
     "name": "stdout",
     "output_type": "stream",
     "text": [
      "<class 'pandas.core.frame.DataFrame'>\n",
      "Int64Index: 39369 entries, 0 to 39368\n",
      "Data columns (total 80 columns):\n",
      "session_id                          39369 non-null int64\n",
      "tutor_id                            36157 non-null float64\n",
      "student_id                          39369 non-null int64\n",
      "timestamp                           39369 non-null object\n",
      "feedback_score                      33836 non-null float64\n",
      "wait_time                           39369 non-null float64\n",
      "ended_by_reason                     39344 non-null object\n",
      "session_category                    39366 non-null object\n",
      "consolidated_session_category       33863 non-null object\n",
      "student_complained                  39369 non-null bool\n",
      "student_complaint_clarity           39369 non-null bool\n",
      "student_complaint_speed             39369 non-null bool\n",
      "student_complaint_subject           39369 non-null bool\n",
      "student_complaint_other             39369 non-null bool\n",
      "session_tag_cheating                39369 non-null bool\n",
      "session_tag_inappropriate           39369 non-null bool\n",
      "session_tag_other_subject           39369 non-null bool\n",
      "session_tag_no_material             39369 non-null bool\n",
      "session_tag_student_left            39369 non-null bool\n",
      "session_tag_student_not_engaging    39369 non-null bool\n",
      "session_tag_used_whiteboard         39369 non-null bool\n",
      "student_rating                      30885 non-null float64\n",
      "length_of_session                   33866 non-null float64\n",
      "avg_tutor_response_time             33395 non-null float64\n",
      "max_tutor_response_time             33395 non-null float64\n",
      "subject                             39362 non-null object\n",
      "subtopic                            39369 non-null object\n",
      "rubric_version                      33836 non-null object\n",
      "tutor_gender                        35526 non-null object\n",
      "user_signed_up_via_referral         39369 non-null bool\n",
      "student_has_payment_info            39369 non-null bool\n",
      "tutor_international_name            36157 non-null object\n",
      "tutor_fired                         36157 non-null object\n",
      "student_bd_referral                 39369 non-null bool\n",
      "tutor_math_exam_score               30175 non-null float64\n",
      "tutor_physics_exam_score            4595 non-null float64\n",
      "tutor_chemistry_exam_score          4566 non-null float64\n",
      "tutor_last_sign_in_country          35996 non-null object\n",
      "tutor_age                           35917 non-null float64\n",
      "student_platform                    39369 non-null object\n",
      "student_app_version                 39369 non-null object\n",
      "student_transactions_amount         39369 non-null int64\n",
      "timestamp_clean                     39369 non-null datetime64[ns]\n",
      "year-month                          39369 non-null object\n",
      "gb_bool                             39369 non-null float64\n",
      "session_count                       39369 non-null int64\n",
      "gb_count                            39369 non-null float64\n",
      "first_gb                            39369 non-null datetime64[ns]\n",
      "last_ub                             39369 non-null datetime64[ns]\n",
      "first_session                       39369 non-null datetime64[ns]\n",
      "most_used_platform                  39369 non-null object\n",
      "most_subject                        39369 non-null object\n",
      "bridged_ts_list                     39369 non-null object\n",
      "unbridged_ts_list                   39369 non-null object\n",
      "gb_rate                             39369 non-null float64\n",
      "time_to_gb                          39369 non-null timedelta64[ns]\n",
      "days_to_gb                          39369 non-null float64\n",
      "observed                            39369 non-null float64\n",
      "unbridged_after_gb                  39369 non-null float64\n",
      "days_since_ses_1                    39369 non-null float64\n",
      "total_count_msg                     35874 non-null float64\n",
      "stu_count_msg                       35566 non-null float64\n",
      "tut_count_msg                       31903 non-null float64\n",
      "text                                34026 non-null object\n",
      "word_count                          34026 non-null float64\n",
      "char_count                          34026 non-null float64\n",
      "question_count                      34026 non-null float64\n",
      "how_x                               35874 non-null float64\n",
      "what_x                              35874 non-null float64\n",
      "when_x                              35874 non-null float64\n",
      "where_x                             35874 non-null float64\n",
      "why_x                               35874 non-null float64\n",
      "can_x                               35874 non-null float64\n",
      "how_y                               35566 non-null float64\n",
      "what_y                              35566 non-null float64\n",
      "when_y                              35566 non-null float64\n",
      "where_y                             35566 non-null float64\n",
      "why_y                               35566 non-null float64\n",
      "can_y                               35566 non-null float64\n",
      "question_student_count              35566 non-null float64\n",
      "dtypes: bool(15), datetime64[ns](4), float64(37), int64(4), object(19), timedelta64[ns](1)\n",
      "memory usage: 20.4+ MB\n"
     ]
    }
   ],
   "source": [
    "\n",
    "# Student messages\n",
    "# Tutor messages\n",
    "# Word_count\n",
    "# Question mark count\n",
    "# Emoji Count\n",
    "ses_1_42.info()"
   ]
  },
  {
   "cell_type": "code",
   "execution_count": 141,
   "metadata": {
    "collapsed": false
   },
   "outputs": [],
   "source": [
    "#aggrgates\n",
    "ses_1_42['ques_per_msg'] = 1.0*ses_1_42.question_count / ses_1_42.total_count_msg\n",
    "ses_1_42['words_per_msg'] = 1.0*ses_1_42.word_count / ses_1_42.total_count_msg\n",
    "for word in ques_start:\n",
    "    ses_1_42[word + str('_per_msg')] = 1.0*ses_1_42[word] / ses_1_42.total_count_msg"
   ]
  },
  {
   "cell_type": "code",
   "execution_count": 90,
   "metadata": {
    "collapsed": false
   },
   "outputs": [],
   "source": [
    "ses"
   ]
  },
  {
   "cell_type": "code",
   "execution_count": 106,
   "metadata": {
    "collapsed": false,
    "scrolled": true
   },
   "outputs": [],
   "source": [
    "miss_gb = ses_1_42[(pd.isnull(ses_1_42.word_count))& (ses_1_42.consolidated_session_category == 'gap-bridged')]['session_id']"
   ]
  },
  {
   "cell_type": "code",
   "execution_count": 160,
   "metadata": {
    "collapsed": false,
    "scrolled": true
   },
   "outputs": [
    {
     "name": "stdout",
     "output_type": "stream",
     "text": [
      "<class 'pandas.core.frame.DataFrame'>\n",
      "Int64Index: 34026 entries, 0 to 39368\n",
      "Data columns (total 73 columns):\n",
      "session_id                          34026 non-null int64\n",
      "tutor_id                            32410 non-null float64\n",
      "student_id                          34026 non-null int64\n",
      "timestamp                           34026 non-null object\n",
      "feedback_score                      30979 non-null float64\n",
      "wait_time                           34026 non-null float64\n",
      "ended_by_reason                     34001 non-null object\n",
      "session_category                    34023 non-null object\n",
      "consolidated_session_category       31006 non-null object\n",
      "student_complained                  34026 non-null bool\n",
      "student_complaint_clarity           34026 non-null bool\n",
      "student_complaint_speed             34026 non-null bool\n",
      "student_complaint_subject           34026 non-null bool\n",
      "student_complaint_other             34026 non-null bool\n",
      "session_tag_cheating                34026 non-null bool\n",
      "session_tag_inappropriate           34026 non-null bool\n",
      "session_tag_other_subject           34026 non-null bool\n",
      "session_tag_no_material             34026 non-null bool\n",
      "session_tag_student_left            34026 non-null bool\n",
      "session_tag_student_not_engaging    34026 non-null bool\n",
      "session_tag_used_whiteboard         34026 non-null bool\n",
      "student_rating                      28126 non-null float64\n",
      "length_of_session                   31006 non-null float64\n",
      "avg_tutor_response_time             30593 non-null float64\n",
      "max_tutor_response_time             30593 non-null float64\n",
      "subject                             34024 non-null object\n",
      "subtopic                            34026 non-null object\n",
      "rubric_version                      30979 non-null object\n",
      "tutor_gender                        31859 non-null object\n",
      "user_signed_up_via_referral         34026 non-null bool\n",
      "student_has_payment_info            34026 non-null bool\n",
      "tutor_international_name            32410 non-null object\n",
      "tutor_fired                         32410 non-null object\n",
      "student_bd_referral                 34026 non-null bool\n",
      "tutor_math_exam_score               27006 non-null float64\n",
      "tutor_physics_exam_score            4188 non-null float64\n",
      "tutor_chemistry_exam_score          4188 non-null float64\n",
      "tutor_last_sign_in_country          32281 non-null object\n",
      "tutor_age                           32212 non-null float64\n",
      "student_platform                    34026 non-null object\n",
      "student_app_version                 34026 non-null object\n",
      "student_transactions_amount         34026 non-null int64\n",
      "timestamp_clean                     34026 non-null datetime64[ns]\n",
      "year-month                          34026 non-null object\n",
      "gb_bool                             34026 non-null float64\n",
      "session_count                       34026 non-null int64\n",
      "gb_count                            34026 non-null float64\n",
      "first_gb                            34026 non-null datetime64[ns]\n",
      "last_ub                             34026 non-null datetime64[ns]\n",
      "first_session                       34026 non-null datetime64[ns]\n",
      "most_used_platform                  34026 non-null object\n",
      "most_subject                        34026 non-null object\n",
      "bridged_ts_list                     34026 non-null object\n",
      "unbridged_ts_list                   34026 non-null object\n",
      "gb_rate                             34026 non-null float64\n",
      "time_to_gb                          34026 non-null timedelta64[ns]\n",
      "days_to_gb                          34026 non-null float64\n",
      "observed                            34026 non-null float64\n",
      "unbridged_after_gb                  34026 non-null float64\n",
      "days_since_ses_1                    34026 non-null float64\n",
      "total_count_msg                     34026 non-null float64\n",
      "stu_count_msg                       33718 non-null float64\n",
      "tut_count_msg                       31903 non-null float64\n",
      "text                                34026 non-null object\n",
      "word_count                          34026 non-null float64\n",
      "char_count                          34026 non-null float64\n",
      "question_count                      34026 non-null float64\n",
      "how                                 34026 non-null float64\n",
      "what                                34026 non-null float64\n",
      "when                                34026 non-null float64\n",
      "where                               34026 non-null float64\n",
      "why                                 34026 non-null float64\n",
      "can                                 34026 non-null float64\n",
      "dtypes: bool(15), datetime64[ns](4), float64(30), int64(4), object(19), timedelta64[ns](1)\n",
      "memory usage: 15.8+ MB\n"
     ]
    }
   ],
   "source": [
    "ses_full.info()"
   ]
  },
  {
   "cell_type": "code",
   "execution_count": 98,
   "metadata": {
    "collapsed": false
   },
   "outputs": [
    {
     "data": {
      "text/plain": [
       "first_word\n",
       "i         110429\n",
       "yes       87704 \n",
       "so        78212 \n",
       "ok        64903 \n",
       "what      56528 \n",
       "no        51929 \n",
       "can       47802 \n",
       "we        41580 \n",
       "do        38137 \n",
       "that's    34243 \n",
       "you       33706 \n",
       "the       33651 \n",
       "is        33378 \n",
       "okay      32916 \n",
       "how       32185 \n",
       "so,       32115 \n",
       "not       31524 \n",
       "oh        30318 \n",
       "great!    27422 \n",
       "and       26466 \n",
       "Name: session_id, dtype: int64"
      ]
     },
     "execution_count": 98,
     "metadata": {},
     "output_type": "execute_result"
    }
   ],
   "source": [
    "msg.groupby('first_word')['session_id'].count().sort_values(ascending = False)[:20] #top 10 words"
   ]
  },
  {
   "cell_type": "markdown",
   "metadata": {
    "collapsed": true
   },
   "source": [
    "# Survey"
   ]
  },
  {
   "cell_type": "code",
   "execution_count": 82,
   "metadata": {
    "collapsed": false
   },
   "outputs": [
    {
     "data": {
      "text/plain": [
       "survey\n",
       "0    0.447413\n",
       "1    0.400545\n",
       "Name: gb_bool, dtype: float64"
      ]
     },
     "execution_count": 82,
     "metadata": {},
     "output_type": "execute_result"
    }
   ],
   "source": [
    "# Still no survey join\n",
    "ses_1_42.groupby('survey').mean()['gb_bool']"
   ]
  },
  {
   "cell_type": "code",
   "execution_count": null,
   "metadata": {
    "collapsed": true
   },
   "outputs": [],
   "source": []
  }
 ],
 "metadata": {
  "kernelspec": {
   "display_name": "Python 2",
   "language": "python",
   "name": "python2"
  },
  "language_info": {
   "codemirror_mode": {
    "name": "ipython",
    "version": 2
   },
   "file_extension": ".py",
   "mimetype": "text/x-python",
   "name": "python",
   "nbconvert_exporter": "python",
   "pygments_lexer": "ipython2",
   "version": "2.7.13"
  }
 },
 "nbformat": 4,
 "nbformat_minor": 2
}
